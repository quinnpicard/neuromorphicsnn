{
 "cells": [
  {
   "cell_type": "code",
   "execution_count": null,
   "metadata": {},
   "outputs": [],
   "source": [
    "#you'll need to pip install a few things (again this is in linux but it shouldn't be too hard to install these packages in mac)\n",
    "#!pip install mido\n",
    "#!pip install midi2audio\n",
    "#!sudo apt-get install fluidsynth"
   ]
  },
  {
   "cell_type": "code",
   "execution_count": 23,
   "metadata": {},
   "outputs": [],
   "source": [
    "import mido\n",
    "from mido import MidiFile, MidiTrack, Message, MetaMessage, bpm2tempo, tempo2bpm, second2tick, tick2second\n",
    "from midi2audio import FluidSynth\n",
    "from IPython.display import Audio\n",
    "import os"
   ]
  },
  {
   "cell_type": "code",
   "execution_count": 27,
   "metadata": {},
   "outputs": [],
   "source": [
    "def generate_chords(start, end, chord_type='major', num_notes=3):\n",
    "    if chord_type not in ['major', 'minor', 'dom7', 'diminished', 'augmented', 'sus2', 'sus4']:\n",
    "        raise ValueError('Invalid chord type. Must be one of \"major\", \"minor\", \"dom7\", \"diminished\", \"augmented\", \"sus2\", \"sus4\".')\n",
    "\n",
    "    chords = []\n",
    "    for root in range(start, end+1):\n",
    "        if chord_type == 'major':\n",
    "            chord = [root, root + 4, root + 7]  # Major triad\n",
    "            if num_notes >= 4:\n",
    "                chord.append(root + 11)  # Major seventh\n",
    "            if num_notes >= 5:\n",
    "                chord.append(root + 14)  # Major ninth\n",
    "        elif chord_type == 'minor':\n",
    "            chord = [root, root + 3, root + 7]  # Minor triad\n",
    "            if num_notes >= 4:\n",
    "                chord.append(root + 10)  # Minor seventh\n",
    "            if num_notes >= 5:\n",
    "                chord.append(root + 14)  # Minor ninth\n",
    "        elif chord_type == 'dom7':\n",
    "            chord = [root, root + 4, root + 7, root + 10]  # Dominant 7th\n",
    "            if num_notes >= 5:\n",
    "                chord.append(root + 14)  # Dominant 9th\n",
    "        elif chord_type == 'diminished':\n",
    "            chord = [root, root + 3, root + 6]\n",
    "        elif chord_type == 'augmented':\n",
    "            chord = [root, root + 4, root + 8]\n",
    "        elif chord_type == 'sus2':\n",
    "            chord = [root, root + 2, root + 7]\n",
    "        elif chord_type == 'sus4':\n",
    "            chord = [root, root + 5, root + 7]\n",
    "        chords.append(chord)\n",
    "    return chords"
   ]
  },
  {
   "cell_type": "code",
   "execution_count": 28,
   "metadata": {},
   "outputs": [],
   "source": [
    "#a total of 13 types of chords (7 basic chords + 6 extended chords)\n",
    "\n",
    "start_note = 36  # C2\n",
    "end_note = 96  # C7\n",
    "\n",
    "# Generate all major chords (triads, sevenths, ninths)\n",
    "major_triads = generate_chords(start_note, end_note, chord_type='major',num_notes=3)\n",
    "major_sevenths = generate_chords(start_note, end_note, chord_type='major',num_notes=4)\n",
    "major_ninths = generate_chords(start_note, end_note, chord_type='major',num_notes=5)\n",
    "\n",
    "#generate all minor chords (triads, sevenths, ninths)\n",
    "minor_triads = generate_chords(start_note, end_note, chord_type='minor',num_notes=3)\n",
    "minor_sevenths = generate_chords(start_note, end_note, chord_type='minor',num_notes=4)\n",
    "minor_ninths = generate_chords(start_note, end_note, chord_type='minor',num_notes=5)\n",
    "\n",
    "#gene rate all dominant 7th chords (sevenths, ninths)\n",
    "dom7_sevenths = generate_chords(start_note, end_note, chord_type='dom7',num_notes=4)\n",
    "dom7_ninths = generate_chords(start_note, end_note, chord_type='dom7',num_notes=5)\n",
    "\n",
    "#generate all diminished chords (triads)\n",
    "dim_triads = generate_chords(start_note, end_note, chord_type='diminished',num_notes=3)\n",
    "\n",
    "#generate all augmented chords (triads)\n",
    "aug_triads = generate_chords(start_note, end_note, chord_type='augmented',num_notes=3)\n",
    "\n",
    "#generate all sus2 chords (triads)\n",
    "sus2_triads = generate_chords(start_note, end_note, chord_type='sus2',num_notes=3)\n",
    "\n",
    "#generate all sus4 chords (triads)\n",
    "sus4_triads = generate_chords(start_note, end_note, chord_type='sus4',num_notes=3)"
   ]
  },
  {
   "cell_type": "code",
   "execution_count": 34,
   "metadata": {},
   "outputs": [],
   "source": [
    "#Get the sf2 file from here https://drive.google.com/file/d/1UpggAFKqgrcjWweZJNAQspuT9zo-hotJ/view\n",
    "\n",
    "fs = FluidSynth('Piano Collection-SF4U-v1.5.sf2') #change this to the path of the sf2 file\n",
    "\n",
    "def play_chord(chord, chord_name, directory='.'):\n",
    "    # Ensure the directory exists\n",
    "    os.makedirs(directory, exist_ok=True)\n",
    "\n",
    "    for i, chord in enumerate(chord):\n",
    "        # Create a new MIDI file\n",
    "        mid = MidiFile()\n",
    "        track = MidiTrack()\n",
    "        mid.tracks.append(track)\n",
    "\n",
    "        # Change to a different instrument (0 = Acoustic Grand Piano)\n",
    "        track.append(Message('program_change', program=0, time=0))\n",
    "\n",
    "        # Add the notes of the chord\n",
    "        for note in chord:\n",
    "            track.append(Message('note_on', note=note, velocity=64, time=0))\n",
    "        track.append(Message('note_off', note=note, velocity=64, time=1920))\n",
    "        for note in chord:\n",
    "            track.append(Message('note_off', note=note, velocity=64, time=0))\n",
    "\n",
    "        # Save the MIDI file\n",
    "        midi_filename = os.path.join(directory, f'{chord_name}{i + 36:02d}.mid')\n",
    "        mid.save(midi_filename)\n",
    "\n",
    "        # Convert the MIDI file to a WAV file\n",
    "        wav_filename = os.path.join(directory, f'{chord_name}{i + 36:02d}.wav')\n",
    "        fs.midi_to_audio(midi_filename, wav_filename)\n",
    "\n",
    "        # Clean up the MIDI file\n",
    "        os.remove(midi_filename)"
   ]
  },
  {
   "cell_type": "code",
   "execution_count": null,
   "metadata": {},
   "outputs": [],
   "source": [
    "#make a directory to store the all the chords. I organized them by chord type in a single folder named \"chords\"\n",
    "# Major chords\n",
    "play_chord(major_triads, 'major_triad', directory='directory/major_triad')\n",
    "play_chord(major_sevenths, 'major_seventh', directory='directory/major_seventh')\n",
    "play_chord(major_ninths, 'major_ninth', directory='/directory/major_ninth')\n",
    "\n"
   ]
  },
  {
   "cell_type": "code",
   "execution_count": null,
   "metadata": {},
   "outputs": [],
   "source": [
    "#Minor chords\n",
    "play_chord(minor_triads, 'minor_triad', directory='/chords/minor_triad')\n",
    "play_chord(minor_sevenths, 'minor_seventh', directory='/chords/minor_seventh')\n",
    "play_chord(minor_ninths, 'minor_ninth', directory='/chords/minor_ninth')"
   ]
  },
  {
   "cell_type": "code",
   "execution_count": null,
   "metadata": {},
   "outputs": [],
   "source": [
    "#Dominant 7th chords\n",
    "play_chord(dom7_sevenths, 'dom7_seventh', directory='/chords/dom7_seventh')\n",
    "play_chord(dom7_ninths, 'dom7_ninth', directory='/chords/dom7_ninth')"
   ]
  },
  {
   "cell_type": "code",
   "execution_count": null,
   "metadata": {},
   "outputs": [],
   "source": [
    "#Diminished chords\n",
    "play_chord(dim_triads, 'diminished', directory='/chords/diminished')\n",
    "\n",
    "#Augmented chords\n",
    "play_chord(aug_triads, 'augmented', directory='/chords/augmented')\n",
    "\n",
    "#Sus2 chords\n",
    "play_chord(sus2_triads, 'sus2', directory='/chords/sus2')\n",
    "\n",
    "#Sus4 chords\n",
    "play_chord(sus4_triads, 'sus4', directory='/chords/sus4')"
   ]
  }
 ],
 "metadata": {
  "kernelspec": {
   "display_name": "Python 3",
   "language": "python",
   "name": "python3"
  },
  "language_info": {
   "codemirror_mode": {
    "name": "ipython",
    "version": 3
   },
   "file_extension": ".py",
   "mimetype": "text/x-python",
   "name": "python",
   "nbconvert_exporter": "python",
   "pygments_lexer": "ipython3",
   "version": "3.10.6"
  },
  "orig_nbformat": 4
 },
 "nbformat": 4,
 "nbformat_minor": 2
}
