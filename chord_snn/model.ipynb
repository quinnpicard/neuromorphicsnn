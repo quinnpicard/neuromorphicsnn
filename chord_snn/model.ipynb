{
 "cells": [
  {
   "cell_type": "code",
   "execution_count": 2,
   "metadata": {},
   "outputs": [],
   "source": [
    "import numpy as np\n",
    "import sys\n",
    "import os\n",
    "import neuro\n",
    "import risp\n",
    "import random\n",
    "import time\n",
    "\n",
    "\n",
    "from encode import Chromagram\n",
    "from encode import Encoder\n",
    "from data_loader import DataLoader\n",
    "import risp\n",
    "import neuro\n",
    "import eons\n",
    "from sklearn.model_selection import train_test_split\n",
    "from sklearn.preprocessing import OneHotEncoder\n",
    "from sklearn.metrics import accuracy_score\n"
   ]
  },
  {
   "cell_type": "markdown",
   "metadata": {},
   "source": [
    "1.) Innitialize the neuroprocessor"
   ]
  },
  {
   "cell_type": "code",
   "execution_count": 3,
   "metadata": {},
   "outputs": [],
   "source": [
    "risp_config = {\n",
    "  \"leak_mode\": \"all\",\n",
    "  \"min_weight\": -1,\n",
    "  \"max_weight\": 1,\n",
    "  \"min_threshold\": -1,\n",
    "  \"max_threshold\": 1,\n",
    "  \"max_delay\": 5,\n",
    "  \"discrete\": False\n",
    "}\n",
    "\n",
    "proc = risp.Processor(risp_config) # RISP processor\n",
    "\n",
    "net = neuro.Network() # Neuro network\n",
    "net.set_properties(proc.get_network_properties()) # Set network properties\n"
   ]
  },
  {
   "cell_type": "markdown",
   "metadata": {},
   "source": [
    "2.) Load the data"
   ]
  },
  {
   "cell_type": "code",
   "execution_count": 4,
   "metadata": {},
   "outputs": [
    {
     "ename": "AttributeError",
     "evalue": "'DataLoader' object has no attribute 'create_numerical_labels'",
     "output_type": "error",
     "traceback": [
      "\u001b[0;31m---------------------------------------------------------------------------\u001b[0m",
      "\u001b[0;31mAttributeError\u001b[0m                            Traceback (most recent call last)",
      "\u001b[1;32m/home/dofo/Repos/Github/neuromorphicsnn/chord_snn/model.ipynb Cell 5\u001b[0m line \u001b[0;36m2\n\u001b[1;32m      <a href='vscode-notebook-cell:/home/dofo/Repos/Github/neuromorphicsnn/chord_snn/model.ipynb#W4sZmlsZQ%3D%3D?line=0'>1</a>\u001b[0m \u001b[39m# First, split the data into training+validation and testing sets\u001b[39;00m\n\u001b[0;32m----> <a href='vscode-notebook-cell:/home/dofo/Repos/Github/neuromorphicsnn/chord_snn/model.ipynb#W4sZmlsZQ%3D%3D?line=1'>2</a>\u001b[0m X_temp, X_test, y_temp, y_test \u001b[39m=\u001b[39m train_test_split(DataLoader()\u001b[39m.\u001b[39mchroma_files, DataLoader()\u001b[39m.\u001b[39mnumerical_label_roots, test_size\u001b[39m=\u001b[39m\u001b[39m0.2\u001b[39m, random_state\u001b[39m=\u001b[39m\u001b[39m42\u001b[39m)\n\u001b[1;32m      <a href='vscode-notebook-cell:/home/dofo/Repos/Github/neuromorphicsnn/chord_snn/model.ipynb#W4sZmlsZQ%3D%3D?line=3'>4</a>\u001b[0m \u001b[39m# Now, split the training+validation set into training and validation sets\u001b[39;00m\n\u001b[1;32m      <a href='vscode-notebook-cell:/home/dofo/Repos/Github/neuromorphicsnn/chord_snn/model.ipynb#W4sZmlsZQ%3D%3D?line=4'>5</a>\u001b[0m X_train, X_val, y_train, y_val \u001b[39m=\u001b[39m train_test_split(X_temp, y_temp, test_size\u001b[39m=\u001b[39m\u001b[39m0.25\u001b[39m, random_state\u001b[39m=\u001b[39m\u001b[39m42\u001b[39m)  \u001b[39m# 0.25 x 0.8 = 0.2\u001b[39;00m\n",
      "File \u001b[0;32m~/Repos/Github/neuromorphicsnn/chord_snn/data_loader.py:54\u001b[0m, in \u001b[0;36mDataLoader.__init__\u001b[0;34m(self, folders)\u001b[0m\n\u001b[1;32m     52\u001b[0m \u001b[39m#labels and numerical labels\u001b[39;00m\n\u001b[1;32m     53\u001b[0m \u001b[39mself\u001b[39m\u001b[39m.\u001b[39mlabels \u001b[39m=\u001b[39m \u001b[39mself\u001b[39m\u001b[39m.\u001b[39m_get_labels()      \n\u001b[0;32m---> 54\u001b[0m \u001b[39mself\u001b[39m\u001b[39m.\u001b[39mnumerical_label_chord, \u001b[39mself\u001b[39m\u001b[39m.\u001b[39mnumerical_label_roots, \u001b[39mself\u001b[39m\u001b[39m.\u001b[39mnumerical_label_types \u001b[39m=\u001b[39m \u001b[39mself\u001b[39;49m\u001b[39m.\u001b[39;49mcreate_numerical_labels(\u001b[39mself\u001b[39m\u001b[39m.\u001b[39mlabels)\n",
      "\u001b[0;31mAttributeError\u001b[0m: 'DataLoader' object has no attribute 'create_numerical_labels'"
     ]
    }
   ],
   "source": [
    "# First, split the data into training+validation and testing sets\n",
    "X_temp, X_test, y_temp, y_test = train_test_split(DataLoader().chroma_files, DataLoader().numerical_label_roots, test_size=0.2, random_state=42)\n",
    "\n",
    "# Now, split the training+validation set into training and validation sets\n",
    "X_train, X_val, y_train, y_val = train_test_split(X_temp, y_temp, test_size=0.25, random_state=42)  # 0.25 x 0.8 = 0.2\n",
    "\n",
    "# One-hot encode the labels\n",
    "OneHot = OneHotEncoder(sparse_output=False)\n",
    "y_train_encoded = OneHot.fit_transform(np.array(y_train).reshape(-1, 1))\n",
    "y_val_encoded = OneHot.transform(np.array(y_val).reshape(-1, 1))\n",
    "y_test_encoded = OneHot.transform(np.array(y_test).reshape(-1, 1))"
   ]
  },
  {
   "cell_type": "markdown",
   "metadata": {},
   "source": [
    "3.) create template for eons"
   ]
  },
  {
   "cell_type": "code",
   "execution_count": 4,
   "metadata": {},
   "outputs": [],
   "source": [
    "n_inputs = 12\n",
    "n_hidden = 1200\n",
    "n_outputs = 12\n",
    "n_neurons = n_inputs + n_hidden + n_outputs\n",
    "n_synapses = 6000\n",
    "\n",
    "\n",
    "moa = neuro.MOA()\n",
    "moa.seed(42)"
   ]
  },
  {
   "cell_type": "code",
   "execution_count": 5,
   "metadata": {},
   "outputs": [],
   "source": [
    "def create_neuron(neuron_id, net, moa):\n",
    "    neuron = net.add_node(neuron_id)\n",
    "    net.randomize_node_properties(moa, neuron)\n",
    "    return neuron"
   ]
  },
  {
   "cell_type": "code",
   "execution_count": 6,
   "metadata": {},
   "outputs": [],
   "source": [
    "for i in range(n_inputs):\n",
    "    neuron = create_neuron(i, net, moa)\n",
    "    neuron.set(\"Threshold\",0.75)\n",
    "    net.add_input(i)\n",
    "    \n",
    "for i in range(n_outputs):\n",
    "    neuron = create_neuron(i+n_inputs, net, moa)\n",
    "    neuron.set(\"Threshold\",0.75)\n",
    "    net.add_output(i)\n",
    "    \n",
    "for i in range(n_hidden):\n",
    "    neuron = create_neuron(i+n_inputs+n_outputs, net, moa)"
   ]
  },
  {
   "cell_type": "code",
   "execution_count": 7,
   "metadata": {},
   "outputs": [
    {
     "name": "stdout",
     "output_type": "stream",
     "text": [
      "Neuron 0's input ID: 0\n",
      "Neuron 1's input ID: 1\n"
     ]
    }
   ],
   "source": [
    "print(\"Neuron 0's input ID:\", net.get_node(0).input_id)\n",
    "print(\"Neuron 1's input ID:\", net.get_node(1).input_id)"
   ]
  },
  {
   "cell_type": "code",
   "execution_count": 8,
   "metadata": {},
   "outputs": [],
   "source": [
    "for i in range(n_synapses):\n",
    "    source = random.randint(0,n_neurons-1)\n",
    "    dest = random.randint(0,n_neurons-1)\n",
    "    synapse = net.add_or_get_edge(source, dest)\n",
    "    net.randomize_edge_properties(moa, synapse)"
   ]
  },
  {
   "cell_type": "markdown",
   "metadata": {},
   "source": [
    "4.) set up the eons"
   ]
  },
  {
   "cell_type": "code",
   "execution_count": 9,
   "metadata": {},
   "outputs": [],
   "source": [
    "eo_params =  {\n",
    "    \"starting_nodes\": 3,\n",
    "    \"starting_edges\": 6,\n",
    "    \"merge_rate\": 0,\n",
    "    \"population_size\": 50,\n",
    "    \"multi_edges\": 0,\n",
    "    \"crossover_rate\": 0.5,\n",
    "    \"mutation_rate\": 0.9,\n",
    "    \"selection_type\": \"tournament\",\n",
    "    \"tournament_size_factor\": 0.1,\n",
    "    \"tournament_best_net_factor\": 0.9,\n",
    "    \"random_factor\": 0.05,\n",
    "    \"num_mutations\": 4,\n",
    "    \"node_mutations\": { \"Threshold\": 1.0 },\n",
    "    \"net_mutations\": { },\n",
    "    \"edge_mutations\": { \"Weight\": 0.7, \"Delay\": 0.3 },\n",
    "    \"num_best\": 3,\n",
    "\n",
    "    \"add_node_rate\": 0.5,\n",
    "    \"delete_node_rate\": 0.25,\n",
    "    \"add_edge_rate\": 0.55,\n",
    "    \"delete_edge_rate\": 0.75,\n",
    "    \"node_params_rate\": 2.5,\n",
    "    \"edge_params_rate\": 2.5,\n",
    "    \"net_params_rate\" : 0\n",
    "}\n",
    "\n"
   ]
  },
  {
   "cell_type": "code",
   "execution_count": 10,
   "metadata": {},
   "outputs": [],
   "source": [
    "evolver = eons.EONS(eo_params)\n",
    "evolver.set_template_network(net)\n",
    "\n",
    "pop = evolver.generate_population(eo_params,42)"
   ]
  },
  {
   "cell_type": "code",
   "execution_count": 11,
   "metadata": {},
   "outputs": [],
   "source": [
    "def get_prediction(proc, x):\n",
    "    # Load the chroma data from the npy file\n",
    "    encoder=Encoder(x)\n",
    "    \n",
    "    proc.clear_activity()\n",
    "    proc.apply_spikes(encoder.spikes)\n",
    "    #TODO: Increase the duration of the run\n",
    "    proc.run(encoder.time_steps * encoder.num_bins * 12) # you might adjust this duration based on your needs\n",
    "    \n",
    "    # Decoding the output to get the predicted label. You might need to adjust this\n",
    "    predicted_index = proc.output_count_max(n_outputs)[0]\n",
    "    # Convert index to one-hot encoded format\n",
    "    one_hot_prediction = np.zeros(n_outputs)\n",
    "    one_hot_prediction[predicted_index] = 1.0\n",
    "    \n",
    "    return one_hot_prediction \n"
   ]
  },
  {
   "cell_type": "code",
   "execution_count": 12,
   "metadata": {},
   "outputs": [],
   "source": [
    "def fitness(proc, net, X, y):\n",
    "    proc.load_network(net)\n",
    "    \n",
    "    # Set up output tracking\n",
    "    for i in range(n_outputs):\n",
    "        proc.track_neuron_events(i)\n",
    "    \n",
    "    y_predict = [get_prediction(proc, x) for x in X]\n",
    "    return accuracy_score(y_predict, y)\n"
   ]
  },
  {
   "cell_type": "code",
   "execution_count": 13,
   "metadata": {},
   "outputs": [
    {
     "name": "stdout",
     "output_type": "stream",
     "text": [
      "Generation 1 Best Fitness: 0.0890 Time: 00:05:17 Total Time: 00:05:17\n",
      "Generation 2 Best Fitness: 0.0925 Time: 00:04:38 Total Time: 00:04:38\n",
      "Generation 3 Best Fitness: 0.0925 Time: 00:04:43 Total Time: 00:04:43\n",
      "Generation 4 Best Fitness: 0.0953 Time: 00:04:54 Total Time: 00:04:54\n",
      "Generation 5 Best Fitness: 0.1010 Time: 00:04:57 Total Time: 00:04:57\n",
      "Generation 6 Best Fitness: 0.1033 Time: 00:04:35 Total Time: 00:04:35\n",
      "Generation 7 Best Fitness: 0.1033 Time: 00:04:41 Total Time: 00:04:41\n",
      "Generation 8 Best Fitness: 0.1050 Time: 00:04:42 Total Time: 00:04:42\n",
      "Generation 9 Best Fitness: 0.1050 Time: 00:04:44 Total Time: 00:04:44\n",
      "Generation 10 Best Fitness: 0.1056 Time: 00:04:47 Total Time: 00:04:47\n",
      "Generation 11 Best Fitness: 0.1079 Time: 00:04:39 Total Time: 00:04:39\n",
      "Generation 12 Best Fitness: 0.1090 Time: 00:04:37 Total Time: 00:04:37\n",
      "Generation 13 Best Fitness: 0.1124 Time: 00:04:36 Total Time: 00:04:36\n",
      "Generation 14 Best Fitness: 0.1130 Time: 05:22:26 Total Time: 05:22:26\n",
      "Generation 15 Best Fitness: 0.1130 Time: 00:04:46 Total Time: 00:04:46\n"
     ]
    },
    {
     "ename": "KeyboardInterrupt",
     "evalue": "",
     "output_type": "error",
     "traceback": [
      "\u001b[0;31m---------------------------------------------------------------------------\u001b[0m",
      "\u001b[0;31mKeyboardInterrupt\u001b[0m                         Traceback (most recent call last)",
      "\u001b[1;32m/home/dofo/Repos/Github/neuromorphicsnn/chord_snn/model.ipynb Cell 17\u001b[0m line \u001b[0;36m8\n\u001b[1;32m      <a href='vscode-notebook-cell:/home/dofo/Repos/Github/neuromorphicsnn/chord_snn/model.ipynb#X22sZmlsZQ%3D%3D?line=4'>5</a>\u001b[0m start_time \u001b[39m=\u001b[39m time\u001b[39m.\u001b[39mtime()  \u001b[39m# Record the start time for this generation\u001b[39;00m\n\u001b[1;32m      <a href='vscode-notebook-cell:/home/dofo/Repos/Github/neuromorphicsnn/chord_snn/model.ipynb#X22sZmlsZQ%3D%3D?line=6'>7</a>\u001b[0m \u001b[39m# Evaluate fitness of all networks in the population\u001b[39;00m\n\u001b[0;32m----> <a href='vscode-notebook-cell:/home/dofo/Repos/Github/neuromorphicsnn/chord_snn/model.ipynb#X22sZmlsZQ%3D%3D?line=7'>8</a>\u001b[0m fitnesses \u001b[39m=\u001b[39m [fitness(proc, net\u001b[39m.\u001b[39mnetwork, X_train, y_train_encoded) \u001b[39mfor\u001b[39;00m net \u001b[39min\u001b[39;00m pop\u001b[39m.\u001b[39mnetworks]\n\u001b[1;32m     <a href='vscode-notebook-cell:/home/dofo/Repos/Github/neuromorphicsnn/chord_snn/model.ipynb#X22sZmlsZQ%3D%3D?line=9'>10</a>\u001b[0m \u001b[39m# Track and print best fitness in the current generation\u001b[39;00m\n\u001b[1;32m     <a href='vscode-notebook-cell:/home/dofo/Repos/Github/neuromorphicsnn/chord_snn/model.ipynb#X22sZmlsZQ%3D%3D?line=10'>11</a>\u001b[0m best_fitness \u001b[39m=\u001b[39m \u001b[39mmax\u001b[39m(fitnesses)\n",
      "\u001b[1;32m/home/dofo/Repos/Github/neuromorphicsnn/chord_snn/model.ipynb Cell 17\u001b[0m line \u001b[0;36m8\n\u001b[1;32m      <a href='vscode-notebook-cell:/home/dofo/Repos/Github/neuromorphicsnn/chord_snn/model.ipynb#X22sZmlsZQ%3D%3D?line=4'>5</a>\u001b[0m start_time \u001b[39m=\u001b[39m time\u001b[39m.\u001b[39mtime()  \u001b[39m# Record the start time for this generation\u001b[39;00m\n\u001b[1;32m      <a href='vscode-notebook-cell:/home/dofo/Repos/Github/neuromorphicsnn/chord_snn/model.ipynb#X22sZmlsZQ%3D%3D?line=6'>7</a>\u001b[0m \u001b[39m# Evaluate fitness of all networks in the population\u001b[39;00m\n\u001b[0;32m----> <a href='vscode-notebook-cell:/home/dofo/Repos/Github/neuromorphicsnn/chord_snn/model.ipynb#X22sZmlsZQ%3D%3D?line=7'>8</a>\u001b[0m fitnesses \u001b[39m=\u001b[39m [fitness(proc, net\u001b[39m.\u001b[39;49mnetwork, X_train, y_train_encoded) \u001b[39mfor\u001b[39;00m net \u001b[39min\u001b[39;00m pop\u001b[39m.\u001b[39mnetworks]\n\u001b[1;32m     <a href='vscode-notebook-cell:/home/dofo/Repos/Github/neuromorphicsnn/chord_snn/model.ipynb#X22sZmlsZQ%3D%3D?line=9'>10</a>\u001b[0m \u001b[39m# Track and print best fitness in the current generation\u001b[39;00m\n\u001b[1;32m     <a href='vscode-notebook-cell:/home/dofo/Repos/Github/neuromorphicsnn/chord_snn/model.ipynb#X22sZmlsZQ%3D%3D?line=10'>11</a>\u001b[0m best_fitness \u001b[39m=\u001b[39m \u001b[39mmax\u001b[39m(fitnesses)\n",
      "\u001b[1;32m/home/dofo/Repos/Github/neuromorphicsnn/chord_snn/model.ipynb Cell 17\u001b[0m line \u001b[0;36m8\n\u001b[1;32m      <a href='vscode-notebook-cell:/home/dofo/Repos/Github/neuromorphicsnn/chord_snn/model.ipynb#X22sZmlsZQ%3D%3D?line=4'>5</a>\u001b[0m \u001b[39mfor\u001b[39;00m i \u001b[39min\u001b[39;00m \u001b[39mrange\u001b[39m(n_outputs):\n\u001b[1;32m      <a href='vscode-notebook-cell:/home/dofo/Repos/Github/neuromorphicsnn/chord_snn/model.ipynb#X22sZmlsZQ%3D%3D?line=5'>6</a>\u001b[0m     proc\u001b[39m.\u001b[39mtrack_neuron_events(i)\n\u001b[0;32m----> <a href='vscode-notebook-cell:/home/dofo/Repos/Github/neuromorphicsnn/chord_snn/model.ipynb#X22sZmlsZQ%3D%3D?line=7'>8</a>\u001b[0m y_predict \u001b[39m=\u001b[39m [get_prediction(proc, x) \u001b[39mfor\u001b[39;00m x \u001b[39min\u001b[39;00m X]\n\u001b[1;32m      <a href='vscode-notebook-cell:/home/dofo/Repos/Github/neuromorphicsnn/chord_snn/model.ipynb#X22sZmlsZQ%3D%3D?line=8'>9</a>\u001b[0m \u001b[39mreturn\u001b[39;00m accuracy_score(y_predict, y)\n",
      "\u001b[1;32m/home/dofo/Repos/Github/neuromorphicsnn/chord_snn/model.ipynb Cell 17\u001b[0m line \u001b[0;36m8\n\u001b[1;32m      <a href='vscode-notebook-cell:/home/dofo/Repos/Github/neuromorphicsnn/chord_snn/model.ipynb#X22sZmlsZQ%3D%3D?line=4'>5</a>\u001b[0m \u001b[39mfor\u001b[39;00m i \u001b[39min\u001b[39;00m \u001b[39mrange\u001b[39m(n_outputs):\n\u001b[1;32m      <a href='vscode-notebook-cell:/home/dofo/Repos/Github/neuromorphicsnn/chord_snn/model.ipynb#X22sZmlsZQ%3D%3D?line=5'>6</a>\u001b[0m     proc\u001b[39m.\u001b[39mtrack_neuron_events(i)\n\u001b[0;32m----> <a href='vscode-notebook-cell:/home/dofo/Repos/Github/neuromorphicsnn/chord_snn/model.ipynb#X22sZmlsZQ%3D%3D?line=7'>8</a>\u001b[0m y_predict \u001b[39m=\u001b[39m [get_prediction(proc, x) \u001b[39mfor\u001b[39;00m x \u001b[39min\u001b[39;00m X]\n\u001b[1;32m      <a href='vscode-notebook-cell:/home/dofo/Repos/Github/neuromorphicsnn/chord_snn/model.ipynb#X22sZmlsZQ%3D%3D?line=8'>9</a>\u001b[0m \u001b[39mreturn\u001b[39;00m accuracy_score(y_predict, y)\n",
      "\u001b[1;32m/home/dofo/Repos/Github/neuromorphicsnn/chord_snn/model.ipynb Cell 17\u001b[0m line \u001b[0;36m3\n\u001b[1;32m      <a href='vscode-notebook-cell:/home/dofo/Repos/Github/neuromorphicsnn/chord_snn/model.ipynb#X22sZmlsZQ%3D%3D?line=0'>1</a>\u001b[0m \u001b[39mdef\u001b[39;00m \u001b[39mget_prediction\u001b[39m(proc, x):\n\u001b[1;32m      <a href='vscode-notebook-cell:/home/dofo/Repos/Github/neuromorphicsnn/chord_snn/model.ipynb#X22sZmlsZQ%3D%3D?line=1'>2</a>\u001b[0m     \u001b[39m# Load the chroma data from the npy file\u001b[39;00m\n\u001b[0;32m----> <a href='vscode-notebook-cell:/home/dofo/Repos/Github/neuromorphicsnn/chord_snn/model.ipynb#X22sZmlsZQ%3D%3D?line=2'>3</a>\u001b[0m     encoder\u001b[39m=\u001b[39mEncoder(x)\n\u001b[1;32m      <a href='vscode-notebook-cell:/home/dofo/Repos/Github/neuromorphicsnn/chord_snn/model.ipynb#X22sZmlsZQ%3D%3D?line=4'>5</a>\u001b[0m     proc\u001b[39m.\u001b[39mclear_activity()\n\u001b[1;32m      <a href='vscode-notebook-cell:/home/dofo/Repos/Github/neuromorphicsnn/chord_snn/model.ipynb#X22sZmlsZQ%3D%3D?line=5'>6</a>\u001b[0m     proc\u001b[39m.\u001b[39mapply_spikes(encoder\u001b[39m.\u001b[39mspikes)\n",
      "File \u001b[0;32m~/Repos/Github/neuromorphicsnn/chord_snn/encode.py:153\u001b[0m, in \u001b[0;36mEncoder.__init__\u001b[0;34m(self, npy_file, Fs, N, H)\u001b[0m\n\u001b[1;32m    144\u001b[0m \u001b[39mself\u001b[39m\u001b[39m.\u001b[39mchroma_as_list \u001b[39m=\u001b[39m \u001b[39mself\u001b[39m\u001b[39m.\u001b[39m_get_chroma()                \u001b[39m# chromagram as list\u001b[39;00m\n\u001b[1;32m    146\u001b[0m \u001b[39mself\u001b[39m\u001b[39m.\u001b[39mencoder_params \u001b[39m=\u001b[39m {\n\u001b[1;32m    147\u001b[0m     \u001b[39m\"\u001b[39m\u001b[39mdmin\u001b[39m\u001b[39m\"\u001b[39m: \u001b[39mself\u001b[39m\u001b[39m.\u001b[39mnum_bins \u001b[39m*\u001b[39m [\u001b[39m0\u001b[39m],                        \u001b[39m# a list with the length of the number of bins\u001b[39;00m\n\u001b[1;32m    148\u001b[0m     \u001b[39m\"\u001b[39m\u001b[39mdmax\u001b[39m\u001b[39m\"\u001b[39m: \u001b[39mself\u001b[39m\u001b[39m.\u001b[39mnum_bins \u001b[39m*\u001b[39m [\u001b[39m1\u001b[39m],\n\u001b[1;32m    149\u001b[0m     \u001b[39m\"\u001b[39m\u001b[39mencoders\u001b[39m\u001b[39m\"\u001b[39m: [{ \u001b[39m\"\u001b[39m\u001b[39mrate\u001b[39m\u001b[39m\"\u001b[39m: { \u001b[39m\"\u001b[39m\u001b[39msubinterval_size\u001b[39m\u001b[39m\"\u001b[39m: \u001b[39mself\u001b[39m\u001b[39m.\u001b[39mtime_steps } }], \u001b[39m#if you change stuff, its this line that you're most likely looking for :)\u001b[39;00m\n\u001b[1;32m    150\u001b[0m     \u001b[39m\"\u001b[39m\u001b[39minterval\u001b[39m\u001b[39m\"\u001b[39m: \u001b[39mself\u001b[39m\u001b[39m.\u001b[39mtime_steps \u001b[39m*\u001b[39m \u001b[39mself\u001b[39m\u001b[39m.\u001b[39mnum_frames,      \u001b[39m# interval is the length of the song in ms\u001b[39;00m\n\u001b[1;32m    151\u001b[0m     }\n\u001b[0;32m--> 153\u001b[0m \u001b[39mself\u001b[39m\u001b[39m.\u001b[39mspikes, \u001b[39mself\u001b[39m\u001b[39m.\u001b[39mencoder \u001b[39m=\u001b[39m \u001b[39mself\u001b[39;49m\u001b[39m.\u001b[39;49m_encode()\n",
      "File \u001b[0;32m~/Repos/Github/neuromorphicsnn/chord_snn/encode.py:168\u001b[0m, in \u001b[0;36mEncoder._encode\u001b[0;34m(self)\u001b[0m\n\u001b[1;32m    166\u001b[0m \u001b[39mdef\u001b[39;00m \u001b[39m_encode\u001b[39m(\u001b[39mself\u001b[39m):\n\u001b[1;32m    167\u001b[0m     encoder \u001b[39m=\u001b[39m neuro\u001b[39m.\u001b[39mEncoderArray(\u001b[39mself\u001b[39m\u001b[39m.\u001b[39mencoder_params)       \u001b[39m# encoder object. \"neuro.EncoderArray\" from framework\u001b[39;00m\n\u001b[0;32m--> 168\u001b[0m     spikes \u001b[39m=\u001b[39m encoder\u001b[39m.\u001b[39;49mget_timeseries_spikes(\u001b[39mself\u001b[39;49m\u001b[39m.\u001b[39;49mchroma_as_list) \u001b[39m# encoded chromagram. \"get_timeseries_spikes\" from framework\u001b[39;00m\n\u001b[1;32m    169\u001b[0m     \u001b[39mreturn\u001b[39;00m spikes, encoder\n",
      "\u001b[0;31mKeyboardInterrupt\u001b[0m: "
     ]
    }
   ],
   "source": [
    "max_generations = 100\n",
    "vals = []\n",
    "\n",
    "for generation in range(max_generations):\n",
    "    start_time = time.time()  # Record the start time for this generation\n",
    "\n",
    "    # Evaluate fitness of all networks in the population\n",
    "    fitnesses = [fitness(proc, net.network, X_train, y_train_encoded) for net in pop.networks]\n",
    "    \n",
    "    # Track and print best fitness in the current generation\n",
    "    best_fitness = max(fitnesses)\n",
    "    vals.append(best_fitness)\n",
    "    end_time = time.time()  # Record the end time for this generation\n",
    "    elapsed_time = time.strftime(\"%H:%M:%S\", time.gmtime(end_time - start_time))\n",
    "    total_time = time.strftime(\"%H:%M:%S\", time.gmtime(start_time))\n",
    "\n",
    "\n",
    "    print(f\"Generation {generation + 1} Best Fitness: {best_fitness:.4f} Time: {elapsed_time} Total Time: {total_time}\")\n",
    "    \n",
    "    # Produce the next generation based on the current population's fitness\n",
    "    pop = evolver.do_epoch(pop, fitnesses, eo_params)\n",
    "\n",
    "# Optionally, you can evaluate and print the performance of the best network on the test set here.\n",
    "\n",
    "print(\"Evolution finished!\")"
   ]
  },
  {
   "cell_type": "code",
   "execution_count": null,
   "metadata": {},
   "outputs": [],
   "source": []
  }
 ],
 "metadata": {
  "kernelspec": {
   "display_name": "pyframework",
   "language": "python",
   "name": "python3"
  },
  "language_info": {
   "codemirror_mode": {
    "name": "ipython",
    "version": 3
   },
   "file_extension": ".py",
   "mimetype": "text/x-python",
   "name": "python",
   "nbconvert_exporter": "python",
   "pygments_lexer": "ipython3",
   "version": "3.10.12"
  },
  "orig_nbformat": 4
 },
 "nbformat": 4,
 "nbformat_minor": 2
}
