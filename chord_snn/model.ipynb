{
 "cells": [
  {
   "cell_type": "code",
   "execution_count": 27,
   "metadata": {},
   "outputs": [],
   "source": [
    "import numpy as np\n",
    "import sys\n",
    "import os\n",
    "import neuro\n",
    "import risp\n",
    "import random\n",
    "\n",
    "from encode import Chromagram\n",
    "from encode import Encoder\n",
    "from data_loader import data_loader\n",
    "import risp\n",
    "import neuro\n",
    "import eons\n",
    "from sklearn.model_selection import train_test_split\n",
    "from sklearn.preprocessing import OneHotEncoder\n",
    "from sklearn.metrics import accuracy_score\n"
   ]
  },
  {
   "cell_type": "markdown",
   "metadata": {},
   "source": [
    "1.) Innitialize the neuroprocessor"
   ]
  },
  {
   "cell_type": "code",
   "execution_count": 28,
   "metadata": {},
   "outputs": [],
   "source": [
    "risp_config = {\n",
    "  \"leak_mode\": \"all\",\n",
    "  \"min_weight\": -1,\n",
    "  \"max_weight\": 1,\n",
    "  \"min_threshold\": -1,\n",
    "  \"max_threshold\": 1,\n",
    "  \"max_delay\": 5,\n",
    "  \"discrete\": False\n",
    "}\n",
    "\n",
    "proc = risp.Processor(risp_config) # RISP processor\n",
    "\n",
    "net = neuro.Network() # Neuro network\n",
    "net.set_properties(proc.get_network_properties()) # Set network properties\n"
   ]
  },
  {
   "cell_type": "markdown",
   "metadata": {},
   "source": [
    "2.) Load the data"
   ]
  },
  {
   "cell_type": "code",
   "execution_count": 29,
   "metadata": {},
   "outputs": [],
   "source": [
    "# First, split the data into training+validation and testing sets\n",
    "X_temp, X_test, y_temp, y_test = train_test_split(data_loader().chroma_files, data_loader().numerical_label_roots, test_size=0.2, random_state=42)\n",
    "\n",
    "# Now, split the training+validation set into training and validation sets\n",
    "X_train, X_val, y_train, y_val = train_test_split(X_temp, y_temp, test_size=0.25, random_state=42)  # 0.25 x 0.8 = 0.2\n",
    "\n",
    "# One-hot encode the labels\n",
    "OneHot = OneHotEncoder(sparse_output=False)\n",
    "y_train_encoded = OneHot.fit_transform(np.array(y_train).reshape(-1, 1))\n",
    "y_val_encoded = OneHot.transform(np.array(y_val).reshape(-1, 1))\n",
    "y_test_encoded = OneHot.transform(np.array(y_test).reshape(-1, 1))"
   ]
  },
  {
   "cell_type": "markdown",
   "metadata": {},
   "source": [
    "3.) create template for eons"
   ]
  },
  {
   "cell_type": "code",
   "execution_count": 30,
   "metadata": {},
   "outputs": [],
   "source": [
    "n_inputs = 12\n",
    "n_hidden = 360\n",
    "n_outputs = 12\n",
    "n_neurons = n_inputs + n_hidden + n_outputs\n",
    "n_synapses = 1000\n",
    "\n",
    "\n",
    "moa = neuro.MOA()\n",
    "moa.seed(42)"
   ]
  },
  {
   "cell_type": "code",
   "execution_count": 31,
   "metadata": {},
   "outputs": [],
   "source": [
    "def create_neuron(neuron_id, net, moa):\n",
    "    neuron = net.add_node(neuron_id)\n",
    "    net.randomize_node_properties(moa, neuron)\n",
    "    return neuron"
   ]
  },
  {
   "cell_type": "code",
   "execution_count": 32,
   "metadata": {},
   "outputs": [],
   "source": [
    "for i in range(n_inputs):\n",
    "    neuron = create_neuron(i, net, moa)\n",
    "    neuron.set(\"Threshold\",0.75)\n",
    "    net.add_input(neuron.id)\n",
    "    \n",
    "for i in range(n_outputs):\n",
    "    neuron = create_neuron(i+n_inputs, net, moa)\n",
    "    neuron.set(\"Threshold\",0.75)\n",
    "    net.add_output(neuron.id)\n",
    "    \n",
    "for i in range(n_hidden):\n",
    "    neuron = create_neuron(i+n_inputs+n_outputs, net, moa)"
   ]
  },
  {
   "cell_type": "code",
   "execution_count": 33,
   "metadata": {},
   "outputs": [
    {
     "name": "stdout",
     "output_type": "stream",
     "text": [
      "Neuron 0's input ID: 0\n",
      "Neuron 1's input ID: 1\n"
     ]
    }
   ],
   "source": [
    "print(\"Neuron 0's input ID:\", net.get_node(0).input_id)\n",
    "print(\"Neuron 1's input ID:\", net.get_node(1).input_id)"
   ]
  },
  {
   "cell_type": "code",
   "execution_count": 34,
   "metadata": {},
   "outputs": [],
   "source": [
    "for i in range(n_synapses):\n",
    "    source = random.randint(0,n_neurons-1)\n",
    "    dest = random.randint(0,n_neurons-1)\n",
    "    synapse = net.add_or_get_edge(source, dest)\n",
    "    net.randomize_edge_properties(moa, synapse)"
   ]
  },
  {
   "cell_type": "markdown",
   "metadata": {},
   "source": [
    "4.) set up the eons"
   ]
  },
  {
   "cell_type": "code",
   "execution_count": 35,
   "metadata": {},
   "outputs": [],
   "source": [
    "eo_params = {\n",
    "    \"population_size\": 100,\n",
    "    \"starting_nodes\": n_neurons,\n",
    "    \"starting_edges\": n_neurons,\n",
    "    \"multi_edges\": 0.05,\n",
    "    \"merge_rate\": .01,\n",
    "    \"crossover_rate\": 0.5,\n",
    "    \"mutation_rate\": 0.9,\n",
    "    \"add_node_rate\": 0.5,\n",
    "    \"add_edge_rate\": 0.9,\n",
    "    \"delete_node_rate\": 0.4,\n",
    "    \"delete_edge_rate\": 0.8,\n",
    "    \"node_params_rate\": 1.5,\n",
    "    \"edge_params_rate\": 1.5,\n",
    "    \"net_params_rate\": .01,\n",
    "    \"num_mutations\": 5,\n",
    "    \"random_factor\": 0.05,\n",
    "    \"num_best\": 3,\n",
    "\n",
    "    \"selection_type\": \"tournament\",\n",
    "    \"tournament_size_factor\": 0.1,\n",
    "    \"tournament_best_net_factor\": 0.9,\n",
    "    \"node_mutations\": { \"Threshold\": 1.0 },\n",
    "    \"net_mutations\": { },\n",
    "    \"edge_mutations\": { \"Weight\": 0.5, \"Delay\": 0.5 },\n",
    "}\n"
   ]
  },
  {
   "cell_type": "code",
   "execution_count": 36,
   "metadata": {},
   "outputs": [],
   "source": [
    "evolver = eons.EONS(eo_params)\n",
    "evolver.set_template_network(net)\n",
    "\n",
    "pop = evolver.generate_population(eo_params,42)"
   ]
  },
  {
   "cell_type": "code",
   "execution_count": null,
   "metadata": {},
   "outputs": [],
   "source": [
    "# TODO: see what the output of proc is"
   ]
  },
  {
   "cell_type": "code",
   "execution_count": 37,
   "metadata": {},
   "outputs": [],
   "source": [
    "def get_prediction(proc, x):\n",
    "    # Load the chroma data from the npy file\n",
    "    encoder=Encoder(x)\n",
    "    \n",
    "    proc.clear_activity()\n",
    "    proc.apply_spikes(encoder.spikes)\n",
    "    proc.run(encoder.time_steps * encoder.num_bins) # you might adjust this duration based on your needs\n",
    "    \n",
    "    # Decoding the output to get the predicted label. You might need to adjust this\n",
    "    predicted_index = proc.output_count_max(n_outputs)[0]\n",
    "    return OneHot.inverse_transform(np.array([predicted_index]).reshape(-1, 1))[0, 0]\n"
   ]
  },
  {
   "cell_type": "code",
   "execution_count": 40,
   "metadata": {},
   "outputs": [],
   "source": [
    "def fitness(proc, net, X, y):\n",
    "    proc.load_network(net)\n",
    "    \n",
    "    # Set up output tracking\n",
    "    for i in range(n_outputs):\n",
    "        proc.track_neuron_events(i)\n",
    "    \n",
    "    y_predict = [get_prediction(proc, x) for x in X]\n",
    "    return accuracy_score(y_predict, y)\n"
   ]
  },
  {
   "cell_type": "code",
   "execution_count": 41,
   "metadata": {},
   "outputs": [
    {
     "ename": "ValueError",
     "evalue": "Shape of the passed X data is not correct. Expected 12 columns, got 1.",
     "output_type": "error",
     "traceback": [
      "\u001b[0;31m---------------------------------------------------------------------------\u001b[0m",
      "\u001b[0;31mValueError\u001b[0m                                Traceback (most recent call last)",
      "Cell \u001b[0;32mIn[41], line 6\u001b[0m\n\u001b[1;32m      2\u001b[0m vals \u001b[39m=\u001b[39m []\n\u001b[1;32m      4\u001b[0m \u001b[39mfor\u001b[39;00m generation \u001b[39min\u001b[39;00m \u001b[39mrange\u001b[39m(max_generations):\n\u001b[1;32m      5\u001b[0m     \u001b[39m# Evaluate fitness of all networks in the population\u001b[39;00m\n\u001b[0;32m----> 6\u001b[0m     fitnesses \u001b[39m=\u001b[39m [fitness(proc, net\u001b[39m.\u001b[39mnetwork, X_train, y_train_encoded) \u001b[39mfor\u001b[39;00m net \u001b[39min\u001b[39;00m pop\u001b[39m.\u001b[39mnetworks]\n\u001b[1;32m      8\u001b[0m     \u001b[39m# Track and print best fitness in the current generation\u001b[39;00m\n\u001b[1;32m      9\u001b[0m     best_fitness \u001b[39m=\u001b[39m \u001b[39mmax\u001b[39m(fitnesses)\n",
      "Cell \u001b[0;32mIn[41], line 6\u001b[0m, in \u001b[0;36m<listcomp>\u001b[0;34m(.0)\u001b[0m\n\u001b[1;32m      2\u001b[0m vals \u001b[39m=\u001b[39m []\n\u001b[1;32m      4\u001b[0m \u001b[39mfor\u001b[39;00m generation \u001b[39min\u001b[39;00m \u001b[39mrange\u001b[39m(max_generations):\n\u001b[1;32m      5\u001b[0m     \u001b[39m# Evaluate fitness of all networks in the population\u001b[39;00m\n\u001b[0;32m----> 6\u001b[0m     fitnesses \u001b[39m=\u001b[39m [fitness(proc, net\u001b[39m.\u001b[39;49mnetwork, X_train, y_train_encoded) \u001b[39mfor\u001b[39;00m net \u001b[39min\u001b[39;00m pop\u001b[39m.\u001b[39mnetworks]\n\u001b[1;32m      8\u001b[0m     \u001b[39m# Track and print best fitness in the current generation\u001b[39;00m\n\u001b[1;32m      9\u001b[0m     best_fitness \u001b[39m=\u001b[39m \u001b[39mmax\u001b[39m(fitnesses)\n",
      "Cell \u001b[0;32mIn[40], line 8\u001b[0m, in \u001b[0;36mfitness\u001b[0;34m(proc, net, X, y)\u001b[0m\n\u001b[1;32m      5\u001b[0m \u001b[39mfor\u001b[39;00m i \u001b[39min\u001b[39;00m \u001b[39mrange\u001b[39m(n_outputs):\n\u001b[1;32m      6\u001b[0m     proc\u001b[39m.\u001b[39mtrack_neuron_events(i)\n\u001b[0;32m----> 8\u001b[0m y_predict \u001b[39m=\u001b[39m [get_prediction(proc, x) \u001b[39mfor\u001b[39;00m x \u001b[39min\u001b[39;00m X]\n\u001b[1;32m      9\u001b[0m \u001b[39mreturn\u001b[39;00m accuracy_score(y_predict, y)\n",
      "Cell \u001b[0;32mIn[40], line 8\u001b[0m, in \u001b[0;36m<listcomp>\u001b[0;34m(.0)\u001b[0m\n\u001b[1;32m      5\u001b[0m \u001b[39mfor\u001b[39;00m i \u001b[39min\u001b[39;00m \u001b[39mrange\u001b[39m(n_outputs):\n\u001b[1;32m      6\u001b[0m     proc\u001b[39m.\u001b[39mtrack_neuron_events(i)\n\u001b[0;32m----> 8\u001b[0m y_predict \u001b[39m=\u001b[39m [get_prediction(proc, x) \u001b[39mfor\u001b[39;00m x \u001b[39min\u001b[39;00m X]\n\u001b[1;32m      9\u001b[0m \u001b[39mreturn\u001b[39;00m accuracy_score(y_predict, y)\n",
      "Cell \u001b[0;32mIn[37], line 11\u001b[0m, in \u001b[0;36mget_prediction\u001b[0;34m(proc, x)\u001b[0m\n\u001b[1;32m      9\u001b[0m \u001b[39m# Decoding the output to get the predicted label. You might need to adjust this\u001b[39;00m\n\u001b[1;32m     10\u001b[0m predicted_index \u001b[39m=\u001b[39m proc\u001b[39m.\u001b[39moutput_count_max(n_outputs)[\u001b[39m0\u001b[39m]\n\u001b[0;32m---> 11\u001b[0m \u001b[39mreturn\u001b[39;00m OneHot\u001b[39m.\u001b[39;49minverse_transform(np\u001b[39m.\u001b[39;49marray([predicted_index])\u001b[39m.\u001b[39;49mreshape(\u001b[39m-\u001b[39;49m\u001b[39m1\u001b[39;49m, \u001b[39m1\u001b[39;49m))[\u001b[39m0\u001b[39m, \u001b[39m0\u001b[39m]\n",
      "File \u001b[0;32m~/Repos/Bitbucket/framework/pyframework/lib/python3.10/site-packages/sklearn/preprocessing/_encoders.py:1096\u001b[0m, in \u001b[0;36mOneHotEncoder.inverse_transform\u001b[0;34m(self, X)\u001b[0m\n\u001b[1;32m   1092\u001b[0m msg \u001b[39m=\u001b[39m (\n\u001b[1;32m   1093\u001b[0m     \u001b[39m\"\u001b[39m\u001b[39mShape of the passed X data is not correct. Expected \u001b[39m\u001b[39m{0}\u001b[39;00m\u001b[39m columns, got \u001b[39m\u001b[39m{1}\u001b[39;00m\u001b[39m.\u001b[39m\u001b[39m\"\u001b[39m\n\u001b[1;32m   1094\u001b[0m )\n\u001b[1;32m   1095\u001b[0m \u001b[39mif\u001b[39;00m X\u001b[39m.\u001b[39mshape[\u001b[39m1\u001b[39m] \u001b[39m!=\u001b[39m n_features_out:\n\u001b[0;32m-> 1096\u001b[0m     \u001b[39mraise\u001b[39;00m \u001b[39mValueError\u001b[39;00m(msg\u001b[39m.\u001b[39mformat(n_features_out, X\u001b[39m.\u001b[39mshape[\u001b[39m1\u001b[39m]))\n\u001b[1;32m   1098\u001b[0m transformed_features \u001b[39m=\u001b[39m [\n\u001b[1;32m   1099\u001b[0m     \u001b[39mself\u001b[39m\u001b[39m.\u001b[39m_compute_transformed_categories(i, remove_dropped\u001b[39m=\u001b[39m\u001b[39mFalse\u001b[39;00m)\n\u001b[1;32m   1100\u001b[0m     \u001b[39mfor\u001b[39;00m i, _ \u001b[39min\u001b[39;00m \u001b[39menumerate\u001b[39m(\u001b[39mself\u001b[39m\u001b[39m.\u001b[39mcategories_)\n\u001b[1;32m   1101\u001b[0m ]\n\u001b[1;32m   1103\u001b[0m \u001b[39m# create resulting array of appropriate dtype\u001b[39;00m\n",
      "\u001b[0;31mValueError\u001b[0m: Shape of the passed X data is not correct. Expected 12 columns, got 1."
     ]
    }
   ],
   "source": [
    "max_generations = 100\n",
    "vals = []\n",
    "\n",
    "for generation in range(max_generations):\n",
    "    # Evaluate fitness of all networks in the population\n",
    "    fitnesses = [fitness(proc, net.network, X_train, y_train_encoded) for net in pop.networks]\n",
    "    \n",
    "    # Track and print best fitness in the current generation\n",
    "    best_fitness = max(fitnesses)\n",
    "    vals.append(best_fitness)\n",
    "    print(f\"Generation {generation + 1} Best Fitness: {best_fitness:.4f}\")\n",
    "    \n",
    "    # Produce the next generation based on the current population's fitness\n",
    "    pop = evolver.do_epoch(pop, fitnesses, eo_params)\n",
    "\n",
    "# Optionally, you can evaluate and print the performance of the best network on the test set here.\n",
    "\n",
    "print(\"Evolution finished!\")"
   ]
  },
  {
   "cell_type": "code",
   "execution_count": null,
   "metadata": {},
   "outputs": [],
   "source": []
  }
 ],
 "metadata": {
  "kernelspec": {
   "display_name": "pyframework",
   "language": "python",
   "name": "python3"
  },
  "language_info": {
   "codemirror_mode": {
    "name": "ipython",
    "version": 3
   },
   "file_extension": ".py",
   "mimetype": "text/x-python",
   "name": "python",
   "nbconvert_exporter": "python",
   "pygments_lexer": "ipython3",
   "version": "3.10.12"
  },
  "orig_nbformat": 4
 },
 "nbformat": 4,
 "nbformat_minor": 2
}
