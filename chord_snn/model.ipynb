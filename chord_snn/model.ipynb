{
 "cells": [
  {
   "cell_type": "code",
   "execution_count": 1,
   "metadata": {},
   "outputs": [],
   "source": [
    "import numpy as np\n",
    "import sys\n",
    "import os\n",
    "import neuro\n",
    "import risp\n",
    "import random\n",
    "import time\n",
    "\n",
    "import json\n",
    "\n",
    "from encode import Chromagram\n",
    "from encode import Encoder\n",
    "from data_loader import DataLoader\n",
    "import risp\n",
    "import neuro\n",
    "import eons\n",
    "from sklearn.model_selection import train_test_split\n",
    "from sklearn.preprocessing import OneHotEncoder\n",
    "from sklearn.metrics import accuracy_score\n"
   ]
  },
  {
   "cell_type": "markdown",
   "metadata": {},
   "source": [
    "1.) Innitialize the neuroprocessor"
   ]
  },
  {
   "cell_type": "code",
   "execution_count": 2,
   "metadata": {},
   "outputs": [],
   "source": [
    "risp_config = {\n",
    "  \"leak_mode\": \"all\",\n",
    "  \"min_weight\": -1,\n",
    "  \"max_weight\": 1,\n",
    "  \"min_threshold\": -1,\n",
    "  \"max_threshold\": 1,\n",
    "  \"max_delay\": 5,\n",
    "  \"discrete\": False\n",
    "}\n",
    "\n",
    "proc = risp.Processor(risp_config) # RISP processor\n",
    "\n",
    "net = neuro.Network() # Neuro network\n",
    "net.set_properties(proc.get_network_properties()) # Set network properties\n"
   ]
  },
  {
   "cell_type": "markdown",
   "metadata": {},
   "source": [
    "2.) Load the data"
   ]
  },
  {
   "cell_type": "code",
   "execution_count": 3,
   "metadata": {},
   "outputs": [],
   "source": [
    "# First, split the data into training+validation and testing sets\n",
    "X_temp, X_test, y_temp, y_test = train_test_split(DataLoader().chroma_files, DataLoader().numerical_label_types, test_size=0.2, random_state=42)\n",
    "\n",
    "# Now, split the training+validation set into training and validation sets\n",
    "X_train, X_val, y_train, y_val = train_test_split(X_temp, y_temp, test_size=0.25, random_state=42)  # 0.25 x 0.8 = 0.2\n",
    "\n",
    "# One-hot encode the labels\n",
    "OneHot = OneHotEncoder(sparse_output=False)\n",
    "y_train_encoded = OneHot.fit_transform(np.array(y_train).reshape(-1, 1))\n",
    "y_val_encoded = OneHot.transform(np.array(y_val).reshape(-1, 1))\n",
    "y_test_encoded = OneHot.transform(np.array(y_test).reshape(-1, 1))"
   ]
  },
  {
   "cell_type": "code",
   "execution_count": 4,
   "metadata": {},
   "outputs": [
    {
     "name": "stdout",
     "output_type": "stream",
     "text": [
      "Shape of y_test: (10,)\n"
     ]
    }
   ],
   "source": [
    "print(\"Shape of y_test:\", np.shape(y_test_encoded[0]))"
   ]
  },
  {
   "cell_type": "code",
   "execution_count": 5,
   "metadata": {},
   "outputs": [
    {
     "data": {
      "text/plain": [
       "array([0., 0., 0., 0., 0., 0., 0., 0., 0., 1.])"
      ]
     },
     "execution_count": 5,
     "metadata": {},
     "output_type": "execute_result"
    }
   ],
   "source": [
    "y_train_encoded[0]"
   ]
  },
  {
   "cell_type": "markdown",
   "metadata": {},
   "source": [
    "3.) create template for eons"
   ]
  },
  {
   "cell_type": "code",
   "execution_count": 6,
   "metadata": {},
   "outputs": [],
   "source": [
    "n_inputs = 12\n",
    "n_hidden = 100\n",
    "n_outputs = 10\n",
    "n_neurons = n_inputs + n_hidden + n_outputs\n",
    "n_synapses = 200\n",
    "\n",
    "\n",
    "moa = neuro.MOA()\n",
    "moa.seed(42)"
   ]
  },
  {
   "cell_type": "code",
   "execution_count": 7,
   "metadata": {},
   "outputs": [],
   "source": [
    "def create_neuron(neuron_id, net, moa):\n",
    "    neuron = net.add_node(neuron_id)\n",
    "    net.randomize_node_properties(moa, neuron)\n",
    "    return neuron"
   ]
  },
  {
   "cell_type": "code",
   "execution_count": 8,
   "metadata": {},
   "outputs": [],
   "source": [
    "for i in range(n_inputs):\n",
    "    neuron = create_neuron(i, net, moa)\n",
    "    neuron.set(\"Threshold\",0.75)\n",
    "    net.add_input(i)\n",
    "    \n",
    "for i in range(n_outputs):\n",
    "    neuron = create_neuron(i+n_inputs, net, moa)\n",
    "    neuron.set(\"Threshold\",0.75)\n",
    "    net.add_output(i)\n",
    "    \n",
    "for i in range(n_hidden):\n",
    "    neuron = create_neuron(i+n_inputs+n_outputs, net, moa)"
   ]
  },
  {
   "cell_type": "code",
   "execution_count": 9,
   "metadata": {},
   "outputs": [
    {
     "name": "stdout",
     "output_type": "stream",
     "text": [
      "Neuron 0's input ID: 0\n",
      "Neuron 1's input ID: 1\n"
     ]
    }
   ],
   "source": [
    "print(\"Neuron 0's input ID:\", net.get_node(0).input_id)\n",
    "print(\"Neuron 1's input ID:\", net.get_node(1).input_id)"
   ]
  },
  {
   "cell_type": "code",
   "execution_count": 10,
   "metadata": {},
   "outputs": [],
   "source": [
    "for i in range(n_synapses):\n",
    "    source = random.randint(0,n_neurons-1)\n",
    "    dest = random.randint(0,n_neurons-1)\n",
    "    synapse = net.add_or_get_edge(source, dest)\n",
    "    net.randomize_edge_properties(moa, synapse)"
   ]
  },
  {
   "cell_type": "markdown",
   "metadata": {},
   "source": [
    "4.) set up the eons"
   ]
  },
  {
   "cell_type": "code",
   "execution_count": 12,
   "metadata": {},
   "outputs": [],
   "source": [
    "eo_params =  {\n",
    "    \"starting_nodes\": 60,\n",
    "    \"starting_edges\": 60,\n",
    "    \"merge_rate\": 0,\n",
    "    \"population_size\": 50,\n",
    "    \"multi_edges\": 0,\n",
    "    \"crossover_rate\": 0.5,\n",
    "    \"mutation_rate\": 0.9,\n",
    "    \"selection_type\": \"tournament\",\n",
    "    \"tournament_size_factor\": 0.3,\n",
    "    \"tournament_best_net_factor\": 0.9,\n",
    "    \"random_factor\": 0,\n",
    "    \"num_mutations\": 5,\n",
    "    \"node_mutations\": { \"Threshold\": 1.0 },\n",
    "    \"net_mutations\": { },\n",
    "    \"edge_mutations\": { \"Weight\": 0.7, \"Delay\": 0.3 },\n",
    "    \"num_best\": 2,\n",
    "\n",
    "    \"add_node_rate\": 0.55,\n",
    "    \"delete_node_rate\": 0.45,\n",
    "    \"add_edge_rate\": 0.55,\n",
    "    \"delete_edge_rate\": 0.45,\n",
    "    \"node_params_rate\": 2.5,\n",
    "    \"edge_params_rate\": 2.5,\n",
    "    \"net_params_rate\" : 0\n",
    "}\n",
    "\n"
   ]
  },
  {
   "cell_type": "code",
   "execution_count": 39,
   "metadata": {},
   "outputs": [],
   "source": [
    "def read_network(fn):\n",
    "    with open(fn, \"r\") as f:\n",
    "        s = f.read()\n",
    "        j = json.loads(s)\n",
    "        net = neuro.Network()\n",
    "        net.from_json(j)\n",
    "    return net"
   ]
  },
  {
   "cell_type": "code",
   "execution_count": 41,
   "metadata": {},
   "outputs": [],
   "source": [
    "network = read_network(\"test_model.json\")"
   ]
  },
  {
   "cell_type": "code",
   "execution_count": 13,
   "metadata": {},
   "outputs": [
    {
     "ename": "NameError",
     "evalue": "name 'network' is not defined",
     "output_type": "error",
     "traceback": [
      "\u001b[0;31m---------------------------------------------------------------------------\u001b[0m",
      "\u001b[0;31mNameError\u001b[0m                                 Traceback (most recent call last)",
      "\u001b[1;32m/home/dofo/Repos/Github/neuromorphicsnn/chord_snn/model.ipynb Cell 19\u001b[0m line \u001b[0;36m1\n\u001b[0;32m----> <a href='vscode-notebook-cell:/home/dofo/Repos/Github/neuromorphicsnn/chord_snn/model.ipynb#X30sZmlsZQ%3D%3D?line=0'>1</a>\u001b[0m \u001b[39mprint\u001b[39m(network\u001b[39m.\u001b[39mnum_edges())\n\u001b[1;32m      <a href='vscode-notebook-cell:/home/dofo/Repos/Github/neuromorphicsnn/chord_snn/model.ipynb#X30sZmlsZQ%3D%3D?line=1'>2</a>\u001b[0m \u001b[39mprint\u001b[39m(network\u001b[39m.\u001b[39mnum_nodes())\n",
      "\u001b[0;31mNameError\u001b[0m: name 'network' is not defined"
     ]
    }
   ],
   "source": [
    "print(network.num_edges())\n",
    "print(network.num_nodes())"
   ]
  },
  {
   "cell_type": "code",
   "execution_count": 14,
   "metadata": {},
   "outputs": [],
   "source": [
    "evolver = eons.EONS(eo_params)\n",
    "evolver.set_template_network(net)\n",
    "\n",
    "pop = evolver.generate_population(eo_params,42)"
   ]
  },
  {
   "cell_type": "code",
   "execution_count": 15,
   "metadata": {},
   "outputs": [],
   "source": [
    "def get_prediction(proc, x):\n",
    "    # Load the chroma data from the npy file\n",
    "    encoder=Encoder(x)\n",
    "    \n",
    "    proc.clear_activity()\n",
    "    proc.apply_spikes(encoder.spikes)\n",
    "    proc.run(encoder.time_steps * encoder.num_frames * 4) # you might adjust this duration based on your needs\n",
    "    \n",
    "    # Decoding the output to get the predicted label. You might need to adjust this\n",
    "    predicted_index = proc.output_count_max(n_outputs)[0]\n",
    "    # Convert index to one-hot encoded format\n",
    "    one_hot_prediction = np.zeros(n_outputs)\n",
    "    one_hot_prediction[predicted_index] = 1.0\n",
    "    \n",
    "    return one_hot_prediction \n"
   ]
  },
  {
   "cell_type": "code",
   "execution_count": 16,
   "metadata": {},
   "outputs": [],
   "source": [
    "def fitness(proc, net, X, y):\n",
    "    proc.load_network(net)\n",
    "    \n",
    "    # Set up output tracking\n",
    "    for i in range(n_outputs):\n",
    "        proc.track_neuron_events(i)\n",
    "    \n",
    "    y_predict = [get_prediction(proc, x) for x in X]\n",
    "    return accuracy_score(y_predict, y)\n"
   ]
  },
  {
   "cell_type": "code",
   "execution_count": 17,
   "metadata": {},
   "outputs": [
    {
     "name": "stdout",
     "output_type": "stream",
     "text": [
      "Generation 1, Best Fitness: 0.0999, Time: 00:05:41, Max_Nodes: 72\n",
      "Generation 2, Best Fitness: 0.1039, Time: 00:05:06, Max_Nodes: 73\n",
      "Generation 3, Best Fitness: 0.1056, Time: 00:05:35, Max_Nodes: 72\n",
      "Generation 4, Best Fitness: 0.1056, Time: 00:06:22, Max_Nodes: 74\n",
      "Generation 5, Best Fitness: 0.1056, Time: 00:05:22, Max_Nodes: 75\n",
      "Generation 6, Best Fitness: 0.1067, Time: 00:04:58, Max_Nodes: 73\n",
      "Generation 7, Best Fitness: 0.1067, Time: 00:04:57, Max_Nodes: 73\n",
      "Generation 8, Best Fitness: 0.1067, Time: 00:05:21, Max_Nodes: 74\n",
      "Generation 9, Best Fitness: 0.1067, Time: 00:04:57, Max_Nodes: 72\n",
      "Generation 10, Best Fitness: 0.1073, Time: 00:04:38, Max_Nodes: 72\n"
     ]
    },
    {
     "ename": "KeyboardInterrupt",
     "evalue": "",
     "output_type": "error",
     "traceback": [
      "\u001b[0;31m---------------------------------------------------------------------------\u001b[0m",
      "\u001b[0;31mKeyboardInterrupt\u001b[0m                         Traceback (most recent call last)",
      "\u001b[1;32m/home/dofo/Repos/Github/neuromorphicsnn/chord_snn/model.ipynb Cell 23\u001b[0m line \u001b[0;36m8\n\u001b[1;32m      <a href='vscode-notebook-cell:/home/dofo/Repos/Github/neuromorphicsnn/chord_snn/model.ipynb#X22sZmlsZQ%3D%3D?line=4'>5</a>\u001b[0m start_time \u001b[39m=\u001b[39m time\u001b[39m.\u001b[39mtime()  \u001b[39m# Record the start time for this generation\u001b[39;00m\n\u001b[1;32m      <a href='vscode-notebook-cell:/home/dofo/Repos/Github/neuromorphicsnn/chord_snn/model.ipynb#X22sZmlsZQ%3D%3D?line=6'>7</a>\u001b[0m \u001b[39m# Evaluate fitness of all networks in the population\u001b[39;00m\n\u001b[0;32m----> <a href='vscode-notebook-cell:/home/dofo/Repos/Github/neuromorphicsnn/chord_snn/model.ipynb#X22sZmlsZQ%3D%3D?line=7'>8</a>\u001b[0m fitnesses \u001b[39m=\u001b[39m [fitness(proc, net\u001b[39m.\u001b[39mnetwork, X_train, y_train_encoded) \u001b[39mfor\u001b[39;00m net \u001b[39min\u001b[39;00m pop\u001b[39m.\u001b[39mnetworks]\n\u001b[1;32m     <a href='vscode-notebook-cell:/home/dofo/Repos/Github/neuromorphicsnn/chord_snn/model.ipynb#X22sZmlsZQ%3D%3D?line=9'>10</a>\u001b[0m \u001b[39m# Track and print best fitness in the current generation\u001b[39;00m\n\u001b[1;32m     <a href='vscode-notebook-cell:/home/dofo/Repos/Github/neuromorphicsnn/chord_snn/model.ipynb#X22sZmlsZQ%3D%3D?line=10'>11</a>\u001b[0m best_fitness \u001b[39m=\u001b[39m \u001b[39mmax\u001b[39m(fitnesses)\n",
      "\u001b[1;32m/home/dofo/Repos/Github/neuromorphicsnn/chord_snn/model.ipynb Cell 23\u001b[0m line \u001b[0;36m8\n\u001b[1;32m      <a href='vscode-notebook-cell:/home/dofo/Repos/Github/neuromorphicsnn/chord_snn/model.ipynb#X22sZmlsZQ%3D%3D?line=4'>5</a>\u001b[0m start_time \u001b[39m=\u001b[39m time\u001b[39m.\u001b[39mtime()  \u001b[39m# Record the start time for this generation\u001b[39;00m\n\u001b[1;32m      <a href='vscode-notebook-cell:/home/dofo/Repos/Github/neuromorphicsnn/chord_snn/model.ipynb#X22sZmlsZQ%3D%3D?line=6'>7</a>\u001b[0m \u001b[39m# Evaluate fitness of all networks in the population\u001b[39;00m\n\u001b[0;32m----> <a href='vscode-notebook-cell:/home/dofo/Repos/Github/neuromorphicsnn/chord_snn/model.ipynb#X22sZmlsZQ%3D%3D?line=7'>8</a>\u001b[0m fitnesses \u001b[39m=\u001b[39m [fitness(proc, net\u001b[39m.\u001b[39;49mnetwork, X_train, y_train_encoded) \u001b[39mfor\u001b[39;00m net \u001b[39min\u001b[39;00m pop\u001b[39m.\u001b[39mnetworks]\n\u001b[1;32m     <a href='vscode-notebook-cell:/home/dofo/Repos/Github/neuromorphicsnn/chord_snn/model.ipynb#X22sZmlsZQ%3D%3D?line=9'>10</a>\u001b[0m \u001b[39m# Track and print best fitness in the current generation\u001b[39;00m\n\u001b[1;32m     <a href='vscode-notebook-cell:/home/dofo/Repos/Github/neuromorphicsnn/chord_snn/model.ipynb#X22sZmlsZQ%3D%3D?line=10'>11</a>\u001b[0m best_fitness \u001b[39m=\u001b[39m \u001b[39mmax\u001b[39m(fitnesses)\n",
      "\u001b[1;32m/home/dofo/Repos/Github/neuromorphicsnn/chord_snn/model.ipynb Cell 23\u001b[0m line \u001b[0;36m8\n\u001b[1;32m      <a href='vscode-notebook-cell:/home/dofo/Repos/Github/neuromorphicsnn/chord_snn/model.ipynb#X22sZmlsZQ%3D%3D?line=4'>5</a>\u001b[0m \u001b[39mfor\u001b[39;00m i \u001b[39min\u001b[39;00m \u001b[39mrange\u001b[39m(n_outputs):\n\u001b[1;32m      <a href='vscode-notebook-cell:/home/dofo/Repos/Github/neuromorphicsnn/chord_snn/model.ipynb#X22sZmlsZQ%3D%3D?line=5'>6</a>\u001b[0m     proc\u001b[39m.\u001b[39mtrack_neuron_events(i)\n\u001b[0;32m----> <a href='vscode-notebook-cell:/home/dofo/Repos/Github/neuromorphicsnn/chord_snn/model.ipynb#X22sZmlsZQ%3D%3D?line=7'>8</a>\u001b[0m y_predict \u001b[39m=\u001b[39m [get_prediction(proc, x) \u001b[39mfor\u001b[39;00m x \u001b[39min\u001b[39;00m X]\n\u001b[1;32m      <a href='vscode-notebook-cell:/home/dofo/Repos/Github/neuromorphicsnn/chord_snn/model.ipynb#X22sZmlsZQ%3D%3D?line=8'>9</a>\u001b[0m \u001b[39mreturn\u001b[39;00m accuracy_score(y_predict, y)\n",
      "\u001b[1;32m/home/dofo/Repos/Github/neuromorphicsnn/chord_snn/model.ipynb Cell 23\u001b[0m line \u001b[0;36m8\n\u001b[1;32m      <a href='vscode-notebook-cell:/home/dofo/Repos/Github/neuromorphicsnn/chord_snn/model.ipynb#X22sZmlsZQ%3D%3D?line=4'>5</a>\u001b[0m \u001b[39mfor\u001b[39;00m i \u001b[39min\u001b[39;00m \u001b[39mrange\u001b[39m(n_outputs):\n\u001b[1;32m      <a href='vscode-notebook-cell:/home/dofo/Repos/Github/neuromorphicsnn/chord_snn/model.ipynb#X22sZmlsZQ%3D%3D?line=5'>6</a>\u001b[0m     proc\u001b[39m.\u001b[39mtrack_neuron_events(i)\n\u001b[0;32m----> <a href='vscode-notebook-cell:/home/dofo/Repos/Github/neuromorphicsnn/chord_snn/model.ipynb#X22sZmlsZQ%3D%3D?line=7'>8</a>\u001b[0m y_predict \u001b[39m=\u001b[39m [get_prediction(proc, x) \u001b[39mfor\u001b[39;00m x \u001b[39min\u001b[39;00m X]\n\u001b[1;32m      <a href='vscode-notebook-cell:/home/dofo/Repos/Github/neuromorphicsnn/chord_snn/model.ipynb#X22sZmlsZQ%3D%3D?line=8'>9</a>\u001b[0m \u001b[39mreturn\u001b[39;00m accuracy_score(y_predict, y)\n",
      "\u001b[1;32m/home/dofo/Repos/Github/neuromorphicsnn/chord_snn/model.ipynb Cell 23\u001b[0m line \u001b[0;36m3\n\u001b[1;32m      <a href='vscode-notebook-cell:/home/dofo/Repos/Github/neuromorphicsnn/chord_snn/model.ipynb#X22sZmlsZQ%3D%3D?line=0'>1</a>\u001b[0m \u001b[39mdef\u001b[39;00m \u001b[39mget_prediction\u001b[39m(proc, x):\n\u001b[1;32m      <a href='vscode-notebook-cell:/home/dofo/Repos/Github/neuromorphicsnn/chord_snn/model.ipynb#X22sZmlsZQ%3D%3D?line=1'>2</a>\u001b[0m     \u001b[39m# Load the chroma data from the npy file\u001b[39;00m\n\u001b[0;32m----> <a href='vscode-notebook-cell:/home/dofo/Repos/Github/neuromorphicsnn/chord_snn/model.ipynb#X22sZmlsZQ%3D%3D?line=2'>3</a>\u001b[0m     encoder\u001b[39m=\u001b[39mEncoder(x)\n\u001b[1;32m      <a href='vscode-notebook-cell:/home/dofo/Repos/Github/neuromorphicsnn/chord_snn/model.ipynb#X22sZmlsZQ%3D%3D?line=4'>5</a>\u001b[0m     proc\u001b[39m.\u001b[39mclear_activity()\n\u001b[1;32m      <a href='vscode-notebook-cell:/home/dofo/Repos/Github/neuromorphicsnn/chord_snn/model.ipynb#X22sZmlsZQ%3D%3D?line=5'>6</a>\u001b[0m     proc\u001b[39m.\u001b[39mapply_spikes(encoder\u001b[39m.\u001b[39mspikes)\n",
      "File \u001b[0;32m~/Repos/Github/neuromorphicsnn/chord_snn/encode.py:153\u001b[0m, in \u001b[0;36mEncoder.__init__\u001b[0;34m(self, npy_file, Fs, N, H)\u001b[0m\n\u001b[1;32m    144\u001b[0m \u001b[39mself\u001b[39m\u001b[39m.\u001b[39mchroma_as_list \u001b[39m=\u001b[39m \u001b[39mself\u001b[39m\u001b[39m.\u001b[39m_get_chroma()                \u001b[39m# chromagram as list\u001b[39;00m\n\u001b[1;32m    146\u001b[0m \u001b[39mself\u001b[39m\u001b[39m.\u001b[39mencoder_params \u001b[39m=\u001b[39m {\n\u001b[1;32m    147\u001b[0m     \u001b[39m\"\u001b[39m\u001b[39mdmin\u001b[39m\u001b[39m\"\u001b[39m: \u001b[39mself\u001b[39m\u001b[39m.\u001b[39mnum_bins \u001b[39m*\u001b[39m [\u001b[39m0\u001b[39m],                        \u001b[39m# a list with the length of the number of bins\u001b[39;00m\n\u001b[1;32m    148\u001b[0m     \u001b[39m\"\u001b[39m\u001b[39mdmax\u001b[39m\u001b[39m\"\u001b[39m: \u001b[39mself\u001b[39m\u001b[39m.\u001b[39mnum_bins \u001b[39m*\u001b[39m [\u001b[39m1\u001b[39m],\n\u001b[1;32m    149\u001b[0m     \u001b[39m\"\u001b[39m\u001b[39mencoders\u001b[39m\u001b[39m\"\u001b[39m: [{ \u001b[39m\"\u001b[39m\u001b[39mrate\u001b[39m\u001b[39m\"\u001b[39m: { \u001b[39m\"\u001b[39m\u001b[39msubinterval_size\u001b[39m\u001b[39m\"\u001b[39m: \u001b[39mself\u001b[39m\u001b[39m.\u001b[39mtime_steps } }], \u001b[39m#if you change stuff, its this line that you're most likely looking for :)\u001b[39;00m\n\u001b[1;32m    150\u001b[0m     \u001b[39m\"\u001b[39m\u001b[39minterval\u001b[39m\u001b[39m\"\u001b[39m: \u001b[39mself\u001b[39m\u001b[39m.\u001b[39mtime_steps \u001b[39m*\u001b[39m \u001b[39mself\u001b[39m\u001b[39m.\u001b[39mnum_frames,      \u001b[39m# interval is the length of the song in ms\u001b[39;00m\n\u001b[1;32m    151\u001b[0m     }\n\u001b[0;32m--> 153\u001b[0m \u001b[39mself\u001b[39m\u001b[39m.\u001b[39mspikes, \u001b[39mself\u001b[39m\u001b[39m.\u001b[39mencoder \u001b[39m=\u001b[39m \u001b[39mself\u001b[39;49m\u001b[39m.\u001b[39;49m_encode()\n",
      "File \u001b[0;32m~/Repos/Github/neuromorphicsnn/chord_snn/encode.py:168\u001b[0m, in \u001b[0;36mEncoder._encode\u001b[0;34m(self)\u001b[0m\n\u001b[1;32m    166\u001b[0m \u001b[39mdef\u001b[39;00m \u001b[39m_encode\u001b[39m(\u001b[39mself\u001b[39m):\n\u001b[1;32m    167\u001b[0m     encoder \u001b[39m=\u001b[39m neuro\u001b[39m.\u001b[39mEncoderArray(\u001b[39mself\u001b[39m\u001b[39m.\u001b[39mencoder_params)       \u001b[39m# encoder object. \"neuro.EncoderArray\" from framework\u001b[39;00m\n\u001b[0;32m--> 168\u001b[0m     spikes \u001b[39m=\u001b[39m encoder\u001b[39m.\u001b[39;49mget_timeseries_spikes(\u001b[39mself\u001b[39;49m\u001b[39m.\u001b[39;49mchroma_as_list) \u001b[39m# encoded chromagram. \"get_timeseries_spikes\" from framework\u001b[39;00m\n\u001b[1;32m    169\u001b[0m     \u001b[39mreturn\u001b[39;00m spikes, encoder\n",
      "\u001b[0;31mKeyboardInterrupt\u001b[0m: "
     ]
    }
   ],
   "source": [
    "max_generations = 100\n",
    "vals = []\n",
    "\n",
    "for generation in range(max_generations):\n",
    "    start_time = time.time()  # Record the start time for this generation\n",
    "\n",
    "    # Evaluate fitness of all networks in the population\n",
    "    fitnesses = [fitness(proc, net.network, X_train, y_train_encoded) for net in pop.networks]\n",
    "    \n",
    "    # Track and print best fitness in the current generation\n",
    "    best_fitness = max(fitnesses)\n",
    "    vals.append(best_fitness)\n",
    "    best_net = pop.networks[fitnesses.index(best_fitness)].network\n",
    "\n",
    "    end_time = time.time()  # Record the end time for this generation\n",
    "    elapsed_time = time.strftime(\"%H:%M:%S\", time.gmtime(end_time - start_time))\n",
    "\n",
    "    print(f\"Generation {generation + 1}, Best Fitness: {best_fitness:.4f}, Time: {elapsed_time}, Max_Nodes: {best_net.num_nodes()}\")\n",
    "    \n",
    "    # Produce the next generation based on the current population's fitness\n",
    "    pop = evolver.do_epoch(pop, fitnesses, eo_params)\n",
    "\n",
    "# Optionally, you can evaluate and print the performance of the best network on the test set here.\n",
    "\n",
    "print(\"Evolution finished!\")\n",
    "print(\"Best fitness:\", best_fitness)"
   ]
  },
  {
   "cell_type": "code",
   "execution_count": 18,
   "metadata": {},
   "outputs": [],
   "source": [
    "best_net = pop.networks[fitnesses.index(best_fitness)].network\n",
    "validation_net = fitness(proc, best_net, X_val, y_val_encoded)"
   ]
  },
  {
   "cell_type": "code",
   "execution_count": 42,
   "metadata": {},
   "outputs": [
    {
     "data": {
      "text/plain": [
       "0.0958904109589041"
      ]
     },
     "execution_count": 42,
     "metadata": {},
     "output_type": "execute_result"
    }
   ],
   "source": [
    "validation_net"
   ]
  },
  {
   "cell_type": "code",
   "execution_count": 32,
   "metadata": {},
   "outputs": [],
   "source": [
    "network_json = best_net.as_json().to_python()\n",
    "filename = \"test_model.json\""
   ]
  },
  {
   "cell_type": "code",
   "execution_count": 35,
   "metadata": {},
   "outputs": [
    {
     "data": {
      "text/plain": [
       "dict"
      ]
     },
     "execution_count": 35,
     "metadata": {},
     "output_type": "execute_result"
    }
   ],
   "source": [
    "type(network_json)"
   ]
  },
  {
   "cell_type": "code",
   "execution_count": 36,
   "metadata": {},
   "outputs": [
    {
     "data": {
      "text/plain": [
       "{'Associated_Data': {},\n",
       " 'Edges': [{'from': 57, 'to': 44, 'values': [-0.8643327993024915, 1]},\n",
       "  {'from': 75, 'to': 10, 'values': [-0.9861522447285597, 1]},\n",
       "  {'from': 57, 'to': 32, 'values': [0.5715615622633048, 4]},\n",
       "  {'from': 52, 'to': 59, 'values': [-0.38097826051082884, 1]},\n",
       "  {'from': 37, 'to': 55, 'values': [-0.09567161442145511, 3]},\n",
       "  {'from': 76, 'to': 51, 'values': [0.23729130980495627, 1]},\n",
       "  {'from': 4, 'to': 8, 'values': [-0.6829439927085639, 3]},\n",
       "  {'from': 40, 'to': 50, 'values': [0.5198554423451087, 2]},\n",
       "  {'from': 70, 'to': 68, 'values': [0.31653049153195, 3]},\n",
       "  {'from': 34, 'to': 10, 'values': [-0.5615201996549778, 4]},\n",
       "  {'from': 3, 'to': 40, 'values': [-0.6976199293736415, 1]},\n",
       "  {'from': 26, 'to': 60, 'values': [0.9600044335145514, 3]},\n",
       "  {'from': 68, 'to': 46, 'values': [-0.12767720947220862, 1]},\n",
       "  {'from': 59, 'to': 45, 'values': [-0.17192908729704304, 1]},\n",
       "  {'from': 81, 'to': 2, 'values': [-0.39840676807761355, 1]},\n",
       "  {'from': 28, 'to': 68, 'values': [0.6568202738782438, 3]},\n",
       "  {'from': 71, 'to': 75, 'values': [0.6502223721822311, 1]},\n",
       "  {'from': 0, 'to': 34, 'values': [-0.39367957445645696, 1]},\n",
       "  {'from': 34, 'to': 48, 'values': [-0.5086204785640864, 1]},\n",
       "  {'from': 41, 'to': 42, 'values': [0.09194140999855982, 3]},\n",
       "  {'from': 45, 'to': 47, 'values': [0.4686219397626403, 1]},\n",
       "  {'from': 10, 'to': 52, 'values': [0.742514558542174, 3]},\n",
       "  {'from': 65, 'to': 73, 'values': [-0.6349167059256967, 1]},\n",
       "  {'from': 80, 'to': 69, 'values': [0.12101378038549182, 3]},\n",
       "  {'from': 3, 'to': 23, 'values': [-0.9670287766417089, 3]},\n",
       "  {'from': 73, 'to': 75, 'values': [-0.22206364227972542, 1]},\n",
       "  {'from': 23, 'to': 42, 'values': [-0.23836367093919864, 1]},\n",
       "  {'from': 79, 'to': 34, 'values': [0.03456891072787549, 2]},\n",
       "  {'from': 66, 'to': 34, 'values': [0.5047527545841302, 3]},\n",
       "  {'from': 23, 'to': 43, 'values': [-0.5220803822209314, 4]},\n",
       "  {'from': 49, 'to': 33, 'values': [0.8743269466502421, 2]},\n",
       "  {'from': 34, 'to': 41, 'values': [-0.6060658380403336, 1]},\n",
       "  {'from': 56, 'to': 28, 'values': [-0.025021088082581078, 4]},\n",
       "  {'from': 71, 'to': 44, 'values': [0.879220244912249, 1]},\n",
       "  {'from': 49, 'to': 76, 'values': [0.3199572291504491, 2]},\n",
       "  {'from': 30, 'to': 74, 'values': [0.27148087864543324, 2]},\n",
       "  {'from': 3, 'to': 11, 'values': [-0.45417717784973266, 4]},\n",
       "  {'from': 59, 'to': 77, 'values': [0.5070753506168433, 1]},\n",
       "  {'from': 81, 'to': 0, 'values': [0.34577661551203964, 1]},\n",
       "  {'from': 53, 'to': 22, 'values': [-0.03152515670087308, 2]},\n",
       "  {'from': 71, 'to': 42, 'values': [-0.6024510649969921, 1]},\n",
       "  {'from': 2, 'to': 4, 'values': [-0.5708190127207942, 4]},\n",
       "  {'from': 58, 'to': 0, 'values': [0.7208766331246301, 4]},\n",
       "  {'from': 62, 'to': 32, 'values': [0.17217726148017154, 1]},\n",
       "  {'from': 10, 'to': 81, 'values': [0.8304262701027156, 3]},\n",
       "  {'from': 69, 'to': 2, 'values': [-0.6190432919233673, 3]},\n",
       "  {'from': 46, 'to': 63, 'values': [-0.9328126380994946, 3]},\n",
       "  {'from': 72, 'to': 24, 'values': [-0.06867901260700982, 1]},\n",
       "  {'from': 57, 'to': 76, 'values': [-0.5584012720637026, 4]},\n",
       "  {'from': 47, 'to': 60, 'values': [0.3628627898550738, 4]},\n",
       "  {'from': 58, 'to': 24, 'values': [-0.26744358783295463, 1]},\n",
       "  {'from': 53, 'to': 79, 'values': [-0.862131057275024, 2]},\n",
       "  {'from': 45, 'to': 8, 'values': [0.23266598517835746, 2]},\n",
       "  {'from': 45, 'to': 67, 'values': [0.000480624614395353, 4]},\n",
       "  {'from': 64, 'to': 46, 'values': [-0.6037991194994652, 1]}],\n",
       " 'Inputs': [0, 1, 2, 3, 4, 5, 6, 7, 8, 9, 10, 11],\n",
       " 'Network_Values': [],\n",
       " 'Nodes': [{'id': 0, 'values': [0.75]},\n",
       "  {'id': 6, 'values': [-0.23590794653536473]},\n",
       "  {'id': 69, 'values': [0.02279367694230605]},\n",
       "  {'id': 51, 'values': [0.20338196288873012]},\n",
       "  {'id': 11, 'values': [0.75]},\n",
       "  {'id': 53, 'values': [-0.46355304109481]},\n",
       "  {'id': 49, 'values': [-0.8122364496375053]},\n",
       "  {'id': 72, 'values': [0.45195121258775495]},\n",
       "  {'id': 30, 'values': [0.9897650768956554]},\n",
       "  {'id': 58, 'values': [-0.41236459496718936]},\n",
       "  {'id': 59, 'values': [0.4870243951415234]},\n",
       "  {'id': 7, 'values': [0.75]},\n",
       "  {'id': 37, 'values': [-0.9525189418235139]},\n",
       "  {'id': 45, 'values': [0.6353239108890583]},\n",
       "  {'id': 57, 'values': [-0.03716855473750469]},\n",
       "  {'id': 3, 'values': [0.20216192985003856]},\n",
       "  {'id': 41, 'values': [-0.25339938310286947]},\n",
       "  {'id': 28, 'values': [0.959826096417342]},\n",
       "  {'id': 78, 'values': [-0.7209974708317308]},\n",
       "  {'id': 81, 'values': [-0.5216373665075836]},\n",
       "  {'id': 40, 'values': [-0.5343896494094258]},\n",
       "  {'id': 50, 'values': [0.08726602398959593]},\n",
       "  {'id': 104, 'values': [-0.0103301538644196]},\n",
       "  {'id': 23, 'values': [0.27066267777016906]},\n",
       "  {'id': 2, 'values': [0.75]},\n",
       "  {'id': 74, 'values': [0.922456237003779]},\n",
       "  {'id': 48, 'values': [0.6006218845957476]},\n",
       "  {'id': 67, 'values': [-0.2749933729122843]},\n",
       "  {'id': 9, 'values': [0.75]},\n",
       "  {'id': 34, 'values': [0.023409974068265837]},\n",
       "  {'id': 38, 'values': [-0.9886053525816196]},\n",
       "  {'id': 60, 'values': [-0.04348991230211452]},\n",
       "  {'id': 5, 'values': [0.40001298799179796]},\n",
       "  {'id': 22, 'values': [0.6825710217660692]},\n",
       "  {'id': 65, 'values': [0.22326601837372073]},\n",
       "  {'id': 63, 'values': [0.5640975813297782]},\n",
       "  {'id': 71, 'values': [-0.48393282561654527]},\n",
       "  {'id': 52, 'values': [0.5173377840587259]},\n",
       "  {'id': 24, 'values': [0.8974721943720878]},\n",
       "  {'id': 43, 'values': [-0.6947963260334908]},\n",
       "  {'id': 29, 'values': [-0.41109613687989677]},\n",
       "  {'id': 42, 'values': [-0.7893832553619015]},\n",
       "  {'id': 10, 'values': [0.75]},\n",
       "  {'id': 27, 'values': [0.9939677692004405]},\n",
       "  {'id': 56, 'values': [0.9579551070830681]},\n",
       "  {'id': 39, 'values': [0.9677934269345816]},\n",
       "  {'id': 47, 'values': [0.48459027881840955]},\n",
       "  {'id': 54, 'values': [-0.2710047385820664]},\n",
       "  {'id': 73, 'values': [0.9576653968444246]},\n",
       "  {'id': 55, 'values': [0.6373402512719251]},\n",
       "  {'id': 1, 'values': [0.75]},\n",
       "  {'id': 62, 'values': [-0.9467872208791756]},\n",
       "  {'id': 77, 'values': [-0.5756177170145367]},\n",
       "  {'id': 26, 'values': [0.7145277479930148]},\n",
       "  {'id': 80, 'values': [0.4336203568227637]},\n",
       "  {'id': 75, 'values': [-0.6963513124958498]},\n",
       "  {'id': 36, 'values': [0.6308510009271211]},\n",
       "  {'id': 46, 'values': [0.008576504655316564]},\n",
       "  {'id': 31, 'values': [-0.3271112091203945]},\n",
       "  {'id': 33, 'values': [0.21259077107826974]},\n",
       "  {'id': 8, 'values': [0.75]},\n",
       "  {'id': 68, 'values': [-0.9626124380069349]},\n",
       "  {'id': 79, 'values': [-0.5030203609501525]},\n",
       "  {'id': 61, 'values': [0.4391820047607604]},\n",
       "  {'id': 66, 'values': [-0.8557755485772565]},\n",
       "  {'id': 64, 'values': [-0.4989597796227223]},\n",
       "  {'id': 76, 'values': [-0.8532416959882811]},\n",
       "  {'id': 70, 'values': [-0.3509258482025298]},\n",
       "  {'id': 4, 'values': [0.75]},\n",
       "  {'id': 32, 'values': [-0.49707797670203213]},\n",
       "  {'id': 44, 'values': [-0.5340789522822198]}],\n",
       " 'Outputs': [0, 1, 2, 3, 4, 5, 6, 7, 8, 9],\n",
       " 'Properties': {'edge_properties': [{'index': 1,\n",
       "    'max_value': 5,\n",
       "    'min_value': 1,\n",
       "    'name': 'Delay',\n",
       "    'size': 1,\n",
       "    'type': 73},\n",
       "   {'index': 0,\n",
       "    'max_value': 1,\n",
       "    'min_value': -1,\n",
       "    'name': 'Weight',\n",
       "    'size': 1,\n",
       "    'type': 68}],\n",
       "  'network_properties': [],\n",
       "  'node_properties': [{'index': 0,\n",
       "    'max_value': 1,\n",
       "    'min_value': -1,\n",
       "    'name': 'Threshold',\n",
       "    'size': 1,\n",
       "    'type': 68}]}}"
      ]
     },
     "execution_count": 36,
     "metadata": {},
     "output_type": "execute_result"
    }
   ],
   "source": [
    "network_json"
   ]
  },
  {
   "cell_type": "code",
   "execution_count": 37,
   "metadata": {},
   "outputs": [],
   "source": [
    "with open(filename, \"w\") as f:\n",
    "    json.dump(network_json, f)"
   ]
  },
  {
   "cell_type": "code",
   "execution_count": null,
   "metadata": {},
   "outputs": [],
   "source": []
  }
 ],
 "metadata": {
  "kernelspec": {
   "display_name": "pyframework",
   "language": "python",
   "name": "python3"
  },
  "language_info": {
   "codemirror_mode": {
    "name": "ipython",
    "version": 3
   },
   "file_extension": ".py",
   "mimetype": "text/x-python",
   "name": "python",
   "nbconvert_exporter": "python",
   "pygments_lexer": "ipython3",
   "version": "3.10.12"
  },
  "orig_nbformat": 4
 },
 "nbformat": 4,
 "nbformat_minor": 2
}
