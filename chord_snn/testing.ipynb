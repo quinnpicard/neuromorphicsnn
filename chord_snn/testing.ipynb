{
 "cells": [
  {
   "cell_type": "code",
   "execution_count": 1,
   "metadata": {},
   "outputs": [],
   "source": [
    "import numpy as np\n",
    "import sys\n",
    "import os\n",
    "import neuro\n",
    "import risp\n",
    "import random\n",
    "\n",
    "from encode import Chromagram\n",
    "from encode import Encoder\n",
    "from data_loader import data_loader\n",
    "import risp\n",
    "import neuro\n",
    "import eons\n",
    "from sklearn.model_selection import train_test_split\n",
    "from sklearn.preprocessing import OneHotEncoder\n",
    "from sklearn.metrics import accuracy_score"
   ]
  },
  {
   "cell_type": "code",
   "execution_count": 2,
   "metadata": {},
   "outputs": [],
   "source": [
    "risp_config = {\n",
    "  \"leak_mode\": \"all\",\n",
    "  \"min_weight\": -1,\n",
    "  \"max_weight\": 1,\n",
    "  \"min_threshold\": -1,\n",
    "  \"max_threshold\": 1,\n",
    "  \"max_delay\": 5,\n",
    "  \"discrete\": False\n",
    "} \n",
    "proc = risp.Processor(risp_config) # RISP processor\n",
    "\n",
    "net = neuro.Network() # Neuro network\n",
    "net.set_properties(proc.get_network_properties()) # Set network properties\n",
    "\n",
    "n_inputs = 12\n",
    "n_hidden = 360\n",
    "n_outputs = 12\n",
    "n_neurons = n_inputs + n_hidden + n_outputs\n",
    "n_synapses = 1000\n",
    "\n",
    "\n",
    "moa = neuro.MOA()\n",
    "moa.seed(42)\n"
   ]
  },
  {
   "cell_type": "code",
   "execution_count": 3,
   "metadata": {},
   "outputs": [],
   "source": [
    "def create_neuron(neuron_id, net, moa):\n",
    "    neuron = net.add_node(neuron_id)\n",
    "    net.randomize_node_properties(moa, neuron)\n",
    "    return neuron\n",
    "\n",
    "for i in range(n_inputs):\n",
    "    neuron = create_neuron(i, net, moa)\n",
    "    neuron.set(\"Threshold\",0.75)\n",
    "    net.add_input(i)\n",
    "    \n",
    "for i in range(n_outputs):\n",
    "    neuron = create_neuron(i+n_inputs, net, moa)\n",
    "    neuron.set(\"Threshold\",0.75)\n",
    "    net.add_output(i)\n",
    "    \n",
    "for i in range(n_hidden):\n",
    "    neuron = create_neuron(i+n_inputs+n_outputs, net, moa)"
   ]
  },
  {
   "cell_type": "code",
   "execution_count": 4,
   "metadata": {},
   "outputs": [],
   "source": [
    "# First, split the data into training+validation and testing sets\n",
    "X_temp, X_test, y_temp, y_test = train_test_split(data_loader().chroma_files, data_loader().numerical_label_roots, test_size=0.2, random_state=42)\n",
    "\n",
    "# Now, split the training+validation set into training and validation sets\n",
    "X_train, X_val, y_train, y_val = train_test_split(X_temp, y_temp, test_size=0.25, random_state=42)  # 0.25 x 0.8 = 0.2\n",
    "\n",
    "# One-hot encode the labels\n",
    "OneHot = OneHotEncoder(sparse_output=False)\n",
    "y_train_encoded = OneHot.fit_transform(np.array(y_train).reshape(-1, 1))\n",
    "y_val_encoded = OneHot.transform(np.array(y_val).reshape(-1, 1))\n",
    "y_test_encoded = OneHot.transform(np.array(y_test).reshape(-1, 1))"
   ]
  },
  {
   "cell_type": "code",
   "execution_count": 5,
   "metadata": {},
   "outputs": [
    {
     "data": {
      "text/plain": [
       "2904"
      ]
     },
     "execution_count": 5,
     "metadata": {},
     "output_type": "execute_result"
    }
   ],
   "source": [
    "len(X_train)"
   ]
  },
  {
   "cell_type": "code",
   "execution_count": 6,
   "metadata": {},
   "outputs": [
    {
     "data": {
      "text/plain": [
       "'/home/dofo/Repos/Github/neuromorphicsnn/chord_snn/dataset/npy_chroma_chords/sus4/MODX8_sus4_C#3_49.npy'"
      ]
     },
     "execution_count": 6,
     "metadata": {},
     "output_type": "execute_result"
    }
   ],
   "source": [
    "X_train[0]"
   ]
  },
  {
   "cell_type": "code",
   "execution_count": 7,
   "metadata": {},
   "outputs": [
    {
     "data": {
      "text/plain": [
       "5015"
      ]
     },
     "execution_count": 7,
     "metadata": {},
     "output_type": "execute_result"
    }
   ],
   "source": [
    "encoder = Encoder(X_train[2])\n",
    "\n",
    "len(encoder.spikes)"
   ]
  },
  {
   "cell_type": "code",
   "execution_count": 8,
   "metadata": {},
   "outputs": [
    {
     "data": {
      "text/plain": [
       "True"
      ]
     },
     "execution_count": 8,
     "metadata": {},
     "output_type": "execute_result"
    }
   ],
   "source": [
    "proc.load_network(net)"
   ]
  },
  {
   "cell_type": "code",
   "execution_count": 9,
   "metadata": {},
   "outputs": [
    {
     "name": "stdout",
     "output_type": "stream",
     "text": [
      "True\n",
      "True\n",
      "True\n",
      "True\n",
      "True\n",
      "True\n",
      "True\n",
      "True\n",
      "True\n",
      "True\n",
      "True\n",
      "True\n"
     ]
    }
   ],
   "source": [
    "for i in range(n_outputs):\n",
    "    proc.track_output_events(i)\n",
    "    print(proc.track_output_events(i))"
   ]
  },
  {
   "cell_type": "code",
   "execution_count": 10,
   "metadata": {},
   "outputs": [],
   "source": [
    "proc.apply_spikes(encoder.spikes)"
   ]
  },
  {
   "cell_type": "code",
   "execution_count": 11,
   "metadata": {},
   "outputs": [],
   "source": [
    "proc.run(100)"
   ]
  },
  {
   "cell_type": "code",
   "execution_count": 12,
   "metadata": {},
   "outputs": [
    {
     "name": "stdout",
     "output_type": "stream",
     "text": [
      "[[0.0, 6.0, 12.0, 18.0, 23.0, 30.0, 38.0, 45.0, 46.0, 55.0, 65.0, 69.0, 79.0, 89.0, 92.0], [0.0, 4.0, 9.0, 13.0, 18.0, 22.0, 23.0, 29.0, 35.0, 41.0, 46.0, 54.0, 63.0, 69.0, 77.0, 85.0, 92.0, 99.0], [0.0, 2.0, 5.0, 8.0, 10.0, 13.0, 16.0, 18.0, 21.0, 23.0, 27.0, 30.0, 34.0, 38.0, 42.0, 46.0, 54.0, 62.0, 69.0, 75.0, 81.0, 88.0, 92.0, 99.0], [0.0, 2.0, 4.0, 6.0, 8.0, 10.0, 12.0, 14.0, 17.0, 19.0, 21.0, 23.0, 25.0, 27.0, 28.0, 30.0, 32.0, 34.0, 36.0, 38.0, 40.0, 42.0, 44.0, 46.0, 47.0, 49.0, 50.0, 52.0, 53.0, 55.0, 56.0, 58.0, 59.0, 61.0, 62.0, 64.0, 65.0, 67.0, 68.0, 69.0, 70.0, 72.0, 73.0, 75.0, 76.0, 77.0, 79.0, 80.0, 81.0, 83.0, 84.0, 86.0, 87.0, 88.0, 90.0, 91.0, 92.0, 94.0, 95.0, 96.0, 97.0, 99.0], [0.0, 4.0, 8.0, 12.0, 16.0, 20.0, 23.0, 28.0, 34.0, 40.0, 45.0, 46.0, 56.0, 66.0, 69.0, 78.0, 86.0, 92.0], [0.0, 3.0, 7.0, 11.0, 15.0, 19.0, 23.0, 28.0, 33.0, 38.0, 42.0, 46.0, 56.0, 66.0, 69.0, 77.0, 84.0, 91.0, 92.0, 99.0], [0.0, 3.0, 6.0, 10.0, 13.0, 16.0, 20.0, 23.0, 27.0, 32.0, 36.0, 41.0, 45.0, 46.0, 51.0, 56.0, 61.0, 67.0, 69.0, 74.0, 79.0, 84.0, 89.0, 92.0, 98.0], [0.0, 3.0, 7.0, 11.0, 15.0, 19.0, 23.0, 29.0, 35.0, 41.0, 46.0, 54.0, 63.0, 69.0, 76.0, 84.0, 91.0, 92.0], [0.0, 5.0, 11.0, 17.0, 22.0, 23.0, 30.0, 37.0, 45.0, 46.0, 57.0, 68.0, 69.0, 79.0, 88.0, 92.0], [0.0, 2.0, 5.0, 7.0, 10.0, 13.0, 15.0, 18.0, 20.0, 23.0, 24.0, 26.0, 28.0, 29.0, 31.0, 32.0, 34.0, 36.0, 37.0, 39.0, 40.0, 42.0, 44.0, 45.0, 46.0, 47.0, 49.0, 51.0, 52.0, 54.0, 55.0, 57.0, 58.0, 60.0, 61.0, 63.0, 65.0, 66.0, 68.0, 69.0, 71.0, 73.0, 75.0, 77.0, 78.0, 80.0, 82.0, 84.0, 86.0, 88.0, 90.0, 91.0, 92.0, 95.0, 97.0, 99.0], [0.0, 3.0, 6.0, 9.0, 13.0, 16.0, 19.0, 22.0, 23.0, 28.0, 33.0, 38.0, 43.0, 46.0, 55.0, 64.0, 69.0, 76.0, 82.0, 88.0, 92.0, 98.0], [0.0, 7.0, 15.0, 23.0, 31.0, 39.0, 46.0, 59.0, 69.0, 81.0, 92.0]]\n",
      "15\n",
      "18\n",
      "24\n",
      "62\n",
      "18\n",
      "20\n",
      "25\n",
      "18\n",
      "16\n",
      "56\n",
      "22\n",
      "11\n"
     ]
    }
   ],
   "source": [
    "vectors = proc.output_vectors()\n",
    "print(vectors)\n",
    "\n",
    "for item in vectors:\n",
    "    print(len(item))"
   ]
  },
  {
   "cell_type": "code",
   "execution_count": 22,
   "metadata": {},
   "outputs": [
    {
     "data": {
      "text/plain": [
       "[0.0,\n",
       " 6.0,\n",
       " 12.0,\n",
       " 18.0,\n",
       " 23.0,\n",
       " 30.0,\n",
       " 38.0,\n",
       " 45.0,\n",
       " 46.0,\n",
       " 55.0,\n",
       " 65.0,\n",
       " 69.0,\n",
       " 79.0,\n",
       " 89.0,\n",
       " 92.0]"
      ]
     },
     "execution_count": 22,
     "metadata": {},
     "output_type": "execute_result"
    }
   ],
   "source": [
    "vector = proc.output_vector(0)\n",
    "#make this list to a numpy array\n",
    "\n",
    "vector"
   ]
  },
  {
   "cell_type": "code",
   "execution_count": 14,
   "metadata": {},
   "outputs": [],
   "source": [
    "predicted_index = proc.output_count_max(12)[0]\n"
   ]
  },
  {
   "cell_type": "code",
   "execution_count": 23,
   "metadata": {},
   "outputs": [
    {
     "data": {
      "text/plain": [
       "[15, 18, 24, 62, 18, 20, 25, 18, 16, 56, 22, 11]"
      ]
     },
     "execution_count": 23,
     "metadata": {},
     "output_type": "execute_result"
    }
   ],
   "source": [
    "proc.output_counts()"
   ]
  },
  {
   "cell_type": "code",
   "execution_count": 15,
   "metadata": {},
   "outputs": [
    {
     "name": "stdout",
     "output_type": "stream",
     "text": [
      "3\n"
     ]
    }
   ],
   "source": [
    "output_count = np.array(proc.output_counts())\n",
    "predicted_index = np.argmax(output_count)\n",
    "print(predicted_index)"
   ]
  },
  {
   "cell_type": "code",
   "execution_count": 18,
   "metadata": {},
   "outputs": [
    {
     "data": {
      "text/plain": [
       "array([0., 0., 0., 0., 0., 0., 0., 0., 0., 0., 0., 0.])"
      ]
     },
     "execution_count": 18,
     "metadata": {},
     "output_type": "execute_result"
    }
   ],
   "source": [
    "one_hot_prediction = np.zeros(n_outputs)\n",
    "one_hot_prediction"
   ]
  },
  {
   "cell_type": "code",
   "execution_count": 19,
   "metadata": {},
   "outputs": [],
   "source": [
    "one_hot_prediction[predicted_index]=1"
   ]
  },
  {
   "cell_type": "code",
   "execution_count": 20,
   "metadata": {},
   "outputs": [
    {
     "data": {
      "text/plain": [
       "array([0., 0., 0., 1., 0., 0., 0., 0., 0., 0., 0., 0.])"
      ]
     },
     "execution_count": 20,
     "metadata": {},
     "output_type": "execute_result"
    }
   ],
   "source": [
    "one_hot_prediction"
   ]
  },
  {
   "cell_type": "code",
   "execution_count": null,
   "metadata": {},
   "outputs": [],
   "source": []
  }
 ],
 "metadata": {
  "kernelspec": {
   "display_name": "pyframework",
   "language": "python",
   "name": "python3"
  },
  "language_info": {
   "codemirror_mode": {
    "name": "ipython",
    "version": 3
   },
   "file_extension": ".py",
   "mimetype": "text/x-python",
   "name": "python",
   "nbconvert_exporter": "python",
   "pygments_lexer": "ipython3",
   "version": "3.10.12"
  },
  "orig_nbformat": 4
 },
 "nbformat": 4,
 "nbformat_minor": 2
}
